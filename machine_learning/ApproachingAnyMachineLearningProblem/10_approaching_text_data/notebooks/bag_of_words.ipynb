{
 "cells": [
  {
   "cell_type": "code",
   "execution_count": 73,
   "id": "ca488655-60f2-4bc9-a8b2-ee36cca80675",
   "metadata": {},
   "outputs": [],
   "source": [
    "import sys\n",
    "from pathlib import Path\n",
    "PROJECT_DIR = str(Path().resolve().parents[0])\n",
    "if PROJECT_DIR not in sys.path:\n",
    "    sys.path.append(PROJECT_DIR)\n",
    "\n",
    "\n",
    "from collections import Counter\n",
    "import pandas as pd\n",
    "import numpy as np\n",
    "from sklearn import model_selection, linear_model, metrics\n",
    "from sklearn.feature_extraction.text import CountVectorizer\n",
    "from sklearn import naive_bayes\n",
    "from nltk.tokenize import word_tokenize\n",
    "    \n",
    "from src import config"
   ]
  },
  {
   "cell_type": "code",
   "execution_count": 74,
   "id": "b1a0e1a5-e967-4adb-a13f-c833ae663c3a",
   "metadata": {},
   "outputs": [
    {
     "data": {
      "text/html": [
       "<div>\n",
       "<style scoped>\n",
       "    .dataframe tbody tr th:only-of-type {\n",
       "        vertical-align: middle;\n",
       "    }\n",
       "\n",
       "    .dataframe tbody tr th {\n",
       "        vertical-align: top;\n",
       "    }\n",
       "\n",
       "    .dataframe thead th {\n",
       "        text-align: right;\n",
       "    }\n",
       "</style>\n",
       "<table border=\"1\" class=\"dataframe\">\n",
       "  <thead>\n",
       "    <tr style=\"text-align: right;\">\n",
       "      <th></th>\n",
       "      <th>review</th>\n",
       "      <th>sentiment</th>\n",
       "      <th>folds</th>\n",
       "    </tr>\n",
       "  </thead>\n",
       "  <tbody>\n",
       "    <tr>\n",
       "      <th>0</th>\n",
       "      <td>This is the biggest load of crap that I have s...</td>\n",
       "      <td>0</td>\n",
       "      <td>0</td>\n",
       "    </tr>\n",
       "    <tr>\n",
       "      <th>1</th>\n",
       "      <td>I love this movie. It is great film that combi...</td>\n",
       "      <td>1</td>\n",
       "      <td>0</td>\n",
       "    </tr>\n",
       "    <tr>\n",
       "      <th>2</th>\n",
       "      <td>This movie is about sexual obsession. Bette Da...</td>\n",
       "      <td>1</td>\n",
       "      <td>0</td>\n",
       "    </tr>\n",
       "    <tr>\n",
       "      <th>3</th>\n",
       "      <td>From the beginning of the movie I had a feelin...</td>\n",
       "      <td>0</td>\n",
       "      <td>0</td>\n",
       "    </tr>\n",
       "    <tr>\n",
       "      <th>4</th>\n",
       "      <td>I was just watching a Forensic Files marathon ...</td>\n",
       "      <td>0</td>\n",
       "      <td>0</td>\n",
       "    </tr>\n",
       "    <tr>\n",
       "      <th>...</th>\n",
       "      <td>...</td>\n",
       "      <td>...</td>\n",
       "      <td>...</td>\n",
       "    </tr>\n",
       "    <tr>\n",
       "      <th>24995</th>\n",
       "      <td>This film was such a mess I actually reimburse...</td>\n",
       "      <td>0</td>\n",
       "      <td>4</td>\n",
       "    </tr>\n",
       "    <tr>\n",
       "      <th>24996</th>\n",
       "      <td>A very ordinary made-for-tv product, \"Tyson\" a...</td>\n",
       "      <td>0</td>\n",
       "      <td>4</td>\n",
       "    </tr>\n",
       "    <tr>\n",
       "      <th>24997</th>\n",
       "      <td>I didn't really expect much from \"The Night Li...</td>\n",
       "      <td>0</td>\n",
       "      <td>4</td>\n",
       "    </tr>\n",
       "    <tr>\n",
       "      <th>24998</th>\n",
       "      <td>I found the storyline in this movie to be very...</td>\n",
       "      <td>1</td>\n",
       "      <td>4</td>\n",
       "    </tr>\n",
       "    <tr>\n",
       "      <th>24999</th>\n",
       "      <td>Good Times was a groundbreaking comedy about t...</td>\n",
       "      <td>1</td>\n",
       "      <td>4</td>\n",
       "    </tr>\n",
       "  </tbody>\n",
       "</table>\n",
       "<p>25000 rows × 3 columns</p>\n",
       "</div>"
      ],
      "text/plain": [
       "                                                  review  sentiment  folds\n",
       "0      This is the biggest load of crap that I have s...          0      0\n",
       "1      I love this movie. It is great film that combi...          1      0\n",
       "2      This movie is about sexual obsession. Bette Da...          1      0\n",
       "3      From the beginning of the movie I had a feelin...          0      0\n",
       "4      I was just watching a Forensic Files marathon ...          0      0\n",
       "...                                                  ...        ...    ...\n",
       "24995  This film was such a mess I actually reimburse...          0      4\n",
       "24996  A very ordinary made-for-tv product, \"Tyson\" a...          0      4\n",
       "24997  I didn't really expect much from \"The Night Li...          0      4\n",
       "24998  I found the storyline in this movie to be very...          1      4\n",
       "24999  Good Times was a groundbreaking comedy about t...          1      4\n",
       "\n",
       "[25000 rows x 3 columns]"
      ]
     },
     "execution_count": 74,
     "metadata": {},
     "output_type": "execute_result"
    }
   ],
   "source": [
    "df = pd.read_csv(config.INPUT_DIR / config.TRAIN_FILE)\n",
    "df[\"sentiment\"] = df[\"sentiment\"].apply(lambda row: 1 if row==\"positive\" else 0)\n",
    "\n",
    "df[\"folds\"] = -1\n",
    "\n",
    "df = df.sample(frac=1.0).reset_index(drop=True)\n",
    "features = df[\"review\"]\n",
    "\n",
    "kf = model_selection.StratifiedKFold(n_splits=5)\n",
    "for fold, (train_idx, val_idx) in enumerate(kf.split(X=features, y=df[\"sentiment\"])):\n",
    "    df.loc[val_idx, \"folds\"] = fold\n",
    "    \n",
    "df"
   ]
  },
  {
   "cell_type": "code",
   "execution_count": 75,
   "id": "c6426c31-167e-4f3a-a948-47256be273a7",
   "metadata": {},
   "outputs": [
    {
     "name": "stdout",
     "output_type": "stream",
     "text": [
      "Accuracy: 0.835\t Precision: 0.86\n",
      "CPU times: user 1min 34s, sys: 39.6 ms, total: 1min 35s\n",
      "Wall time: 1min 35s\n"
     ]
    }
   ],
   "source": [
    "%%time\n",
    "fold_id = 0\n",
    "\n",
    "df_train = df.loc[df[\"folds\"] != fold_id, :].reset_index(drop=True)\n",
    "df_validation = df.loc[df[\"folds\"] == fold_id, :].reset_index(drop=True)\n",
    "\n",
    "count_vec = CountVectorizer(tokenizer=word_tokenize, token_pattern=None)\n",
    "\n",
    "count_vec.fit(df_train[\"review\"])\n",
    "\n",
    "features_train = count_vec.transform(df_train[\"review\"])\n",
    "features_validation = count_vec.transform(df_validation[\"review\"])\n",
    "\n",
    "#clf = linear_model.LogisticRegression()\n",
    "clf = naive_bayes.MultinomialNB()\n",
    "clf.fit(features_train, df_train[\"sentiment\"])\n",
    "\n",
    "preds = clf.predict(features_validation)\n",
    "acc = metrics.accuracy_score(df_validation[\"sentiment\"], preds)\n",
    "prec = metrics.precision_score(df_validation[\"sentiment\"], preds)\n",
    "\n",
    "print(f\"Accuracy: {np.round(acc,3)}\\t Precision: {np.round(prec, 3)}\")"
   ]
  },
  {
   "cell_type": "code",
   "execution_count": 70,
   "id": "18a8ea0b-652f-4149-a9b3-9649a2a5020d",
   "metadata": {},
   "outputs": [
    {
     "data": {
      "text/plain": [
       "array([1, 1, 1, 1, 1, 1, 4])"
      ]
     },
     "execution_count": 70,
     "metadata": {},
     "output_type": "execute_result"
    }
   ],
   "source": [
    "sentence_array = count_vec.transform([\"this is the first document. and this this this\"]).toarray()\n",
    "# np.nonzero(sentence_array)\n",
    "sentence_transformed = sentence_array[sentence_array.nonzero()]\n",
    "sentence_transformed"
   ]
  },
  {
   "cell_type": "code",
   "execution_count": 71,
   "id": "b990d22b-8c4b-4a6a-bc50-252ccc2a9239",
   "metadata": {},
   "outputs": [
    {
     "data": {
      "text/plain": [
       "0.006970445311877638"
      ]
     },
     "execution_count": 71,
     "metadata": {},
     "output_type": "execute_result"
    }
   ],
   "source": [
    "len(sentence_transformed)/len(count_vec.vocabulary_)*100 "
   ]
  },
  {
   "cell_type": "code",
   "execution_count": 60,
   "id": "110c6dd8-5aad-44ca-a779-f8f5c3f78de5",
   "metadata": {},
   "outputs": [
    {
     "data": {
      "text/plain": [
       "'document'"
      ]
     },
     "execution_count": 60,
     "metadata": {},
     "output_type": "execute_result"
    }
   ],
   "source": [
    "count_vec.get_feature_names()[28774]"
   ]
  }
 ],
 "metadata": {
  "kernelspec": {
   "display_name": "Python 3",
   "language": "python",
   "name": "python3"
  },
  "language_info": {
   "codemirror_mode": {
    "name": "ipython",
    "version": 3
   },
   "file_extension": ".py",
   "mimetype": "text/x-python",
   "name": "python",
   "nbconvert_exporter": "python",
   "pygments_lexer": "ipython3",
   "version": "3.8.10"
  }
 },
 "nbformat": 4,
 "nbformat_minor": 5
}
