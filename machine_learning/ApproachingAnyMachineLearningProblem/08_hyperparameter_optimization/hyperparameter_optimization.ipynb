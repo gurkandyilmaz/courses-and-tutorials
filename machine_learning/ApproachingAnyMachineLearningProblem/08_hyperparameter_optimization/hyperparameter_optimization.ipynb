{
 "cells": [
  {
   "cell_type": "code",
   "execution_count": 32,
   "id": "653298e3-cab1-4ac6-96db-7ba39307cc3a",
   "metadata": {},
   "outputs": [
    {
     "name": "stdout",
     "output_type": "stream",
     "text": [
      "The autoreload extension is already loaded. To reload it, use:\n",
      "  %reload_ext autoreload\n"
     ]
    }
   ],
   "source": [
    "%load_ext autoreload\n",
    "%autoreload 2"
   ]
  },
  {
   "cell_type": "code",
   "execution_count": 35,
   "id": "cc3e09c1-6b96-414a-9d3b-1ff3d361edc5",
   "metadata": {},
   "outputs": [],
   "source": [
    "import pandas as pd\n",
    "import numpy as np\n",
    "from sklearn.datasets import make_classification\n",
    "from sklearn import model_selection\n",
    "from sklearn import ensemble\n",
    "from sklearn import metrics\n",
    "\n",
    "\n",
    "x, y = make_classification(n_samples=150, n_features=15, weights=[0.25, 0.75], random_state=12)"
   ]
  },
  {
   "cell_type": "code",
   "execution_count": 36,
   "id": "d26265e1-a527-4d9d-b05f-203044bfc61e",
   "metadata": {},
   "outputs": [
    {
     "data": {
      "text/plain": [
       "(array([0, 1]), array([ 38, 112]))"
      ]
     },
     "execution_count": 36,
     "metadata": {},
     "output_type": "execute_result"
    }
   ],
   "source": [
    "# label counts\n",
    "np.unique(y, return_counts=True)"
   ]
  },
  {
   "cell_type": "code",
   "execution_count": 28,
   "id": "02c92cb0-be27-4518-a373-4cf3cffb42b1",
   "metadata": {
    "scrolled": true,
    "tags": []
   },
   "outputs": [
    {
     "name": "stdout",
     "output_type": "stream",
     "text": [
      "Fitting 3 folds for each of 72 candidates, totalling 216 fits\n",
      "Best Score: 0.9333333333333332\n",
      "Best params: {'criterion': 'gini', 'max_depth': 11, 'n_estimators': 100}\n",
      "CPU times: user 758 ms, sys: 81.3 ms, total: 839 ms\n",
      "Wall time: 1min 22s\n"
     ]
    }
   ],
   "source": [
    "%%time\n",
    "clf = ensemble.RandomForestClassifier(n_jobs=-1)\n",
    "# GridSearchCV\n",
    "param_grid = {\n",
    "    \"n_estimators\": [100,200,250,300,400,500],\n",
    "    \"max_depth\": [1,2,5,7,11,15],\n",
    "    \"criterion\": [\"gini\", \"entropy\"]\n",
    "}\n",
    "\n",
    "model = model_selection.GridSearchCV(\n",
    "    estimator=clf, \n",
    "    param_grid=param_grid, \n",
    "    scoring=\"accuracy\", \n",
    "    verbose=10,\n",
    "    n_jobs=-1,\n",
    "    cv=3\n",
    ")\n",
    "\n",
    "model.fit(x, y)\n",
    "\n",
    "print(f\"Best Score: {model.best_score_}\")\n",
    "print(f\"Best params: {model.best_params_}\")"
   ]
  },
  {
   "cell_type": "code",
   "execution_count": 29,
   "id": "e1156a45-9902-4187-a69f-698778465d1d",
   "metadata": {
    "scrolled": true,
    "tags": []
   },
   "outputs": [
    {
     "name": "stdout",
     "output_type": "stream",
     "text": [
      "Fitting 5 folds for each of 15 candidates, totalling 75 fits\n",
      "Best Score: 0.9199999999999999\n",
      "Best params: {'n_estimators': 900, 'max_depth': 13, 'criterion': 'gini'}\n",
      "CPU times: user 2.55 s, sys: 409 ms, total: 2.96 s\n",
      "Wall time: 1min 12s\n"
     ]
    }
   ],
   "source": [
    "%%time\n",
    "# RandomSearchCV\n",
    "clf = ensemble.RandomForestClassifier(n_jobs=-1)\n",
    "param_grid = {\n",
    "    \"n_estimators\": np.arange(100,1500,100),\n",
    "    \"max_depth\": np.arange(1,31),\n",
    "    \"criterion\": [\"gini\", \"entropy\"]\n",
    "}\n",
    "\n",
    "model = model_selection.RandomizedSearchCV(\n",
    "    estimator=clf,\n",
    "    param_distributions=param_grid,\n",
    "    n_iter=15,\n",
    "    scoring=\"accuracy\",\n",
    "    verbose=10,\n",
    "    n_jobs=-1,\n",
    "    cv=5\n",
    ")\n",
    "\n",
    "model.fit(x, y)\n",
    "\n",
    "print(f\"Best Score: {model.best_score_}\")\n",
    "print(f\"Best params: {model.best_params_}\")"
   ]
  },
  {
   "cell_type": "code",
   "execution_count": 45,
   "id": "c68bed33-5fc5-41a9-88c6-3349acfabb37",
   "metadata": {
    "scrolled": true,
    "tags": []
   },
   "outputs": [
    {
     "name": "stdout",
     "output_type": "stream",
     "text": [
      "Iteration No: 1 started. Evaluating function at random point.\n",
      "Iteration No: 1 ended. Evaluation done at random point.\n",
      "Time taken: 1.7162\n",
      "Function value obtained: -0.9333\n",
      "Current minimum: -0.9333\n",
      "Iteration No: 2 started. Evaluating function at random point.\n",
      "Iteration No: 2 ended. Evaluation done at random point.\n",
      "Time taken: 1.2439\n",
      "Function value obtained: -1.0000\n",
      "Current minimum: -1.0000\n",
      "Iteration No: 3 started. Evaluating function at random point.\n",
      "Iteration No: 3 ended. Evaluation done at random point.\n",
      "Time taken: 1.7000\n",
      "Function value obtained: -1.0000\n",
      "Current minimum: -1.0000\n",
      "Iteration No: 4 started. Evaluating function at random point.\n",
      "Iteration No: 4 ended. Evaluation done at random point.\n",
      "Time taken: 1.7464\n",
      "Function value obtained: -1.0000\n",
      "Current minimum: -1.0000\n",
      "Iteration No: 5 started. Evaluating function at random point.\n",
      "Iteration No: 5 ended. Evaluation done at random point.\n",
      "Time taken: 2.4694\n",
      "Function value obtained: -0.9667\n",
      "Current minimum: -1.0000\n",
      "Iteration No: 6 started. Searching for the next optimal point.\n",
      "Iteration No: 6 ended. Search finished for the next optimal point.\n",
      "Time taken: 0.9738\n",
      "Function value obtained: -1.0000\n",
      "Current minimum: -1.0000\n",
      "Iteration No: 7 started. Searching for the next optimal point.\n",
      "Iteration No: 7 ended. Search finished for the next optimal point.\n",
      "Time taken: 2.5843\n",
      "Function value obtained: -0.9333\n",
      "Current minimum: -1.0000\n",
      "Iteration No: 8 started. Searching for the next optimal point.\n",
      "Iteration No: 8 ended. Search finished for the next optimal point.\n",
      "Time taken: 1.7893\n",
      "Function value obtained: -1.0000\n",
      "Current minimum: -1.0000\n",
      "Iteration No: 9 started. Searching for the next optimal point.\n",
      "Iteration No: 9 ended. Search finished for the next optimal point.\n",
      "Time taken: 0.9819\n",
      "Function value obtained: -1.0000\n",
      "Current minimum: -1.0000\n",
      "Iteration No: 10 started. Searching for the next optimal point.\n",
      "Iteration No: 10 ended. Search finished for the next optimal point.\n",
      "Time taken: 2.5377\n",
      "Function value obtained: -1.0000\n",
      "Current minimum: -1.0000\n",
      "{'max_depth': 9, 'n_estimators': 749, 'criterion': 'gini', 'max_features': 0.34987742089811147}\n"
     ]
    }
   ],
   "source": [
    "%%time\n",
    "# Bayesian optimization with gaussian process\n",
    "\n",
    "from functools import partial\n",
    "from skopt import gp_minimize, space\n",
    "\n",
    "def optimize(params, param_names, x, y):\n",
    "    params = dict(zip(param_names, params))\n",
    "    model = ensemble.RandomForestClassifier(**params)\n",
    "    \n",
    "    kf = model_selection.StratifiedKFold(n_splits=5)\n",
    "    accuricies = []\n",
    "    for train_idx, val_idx in kf.split(X=x, y=y):\n",
    "        x_train = x[train_idx, :]\n",
    "        y_train = y[train_idx]\n",
    "        x_val = x[val_idx, :]\n",
    "        y_val = y[val_idx]\n",
    "        \n",
    "        model.fit(x_train, y_train)\n",
    "        preds = model.predict(x_val)\n",
    "        acc = metrics.accuracy_score(y_val, preds)\n",
    "        accuricies.append(acc)\n",
    "        \n",
    "        return -1*np.mean(accuricies)\n",
    "\n",
    "    \n",
    "param_space = [\n",
    "    space.Integer(3, 15, name=\"max_depth\"),\n",
    "    space.Integer(100, 1500, name=\"n_estimators\"),\n",
    "    space.Categorical([\"gini\", \"entropy\"], name=\"criterion\"),\n",
    "    space.Real(0.01, 1, prior=\"uniform\", name=\"max_features\"),\n",
    "]\n",
    "\n",
    "param_names = [\"max_depth\", \"n_estimators\", \"criterion\", \"max_features\"]\n",
    "\n",
    "optimization_func = partial(optimize, param_names=param_names, x=x, y=y)\n",
    "result = gp_minimize(optimization_func, dimensions=param_space, n_calls=10, n_random_starts=5, verbose=10)\n",
    "\n",
    "best_params = dict(zip(param_names, result.x))\n",
    "print(best_params)\n"
   ]
  },
  {
   "cell_type": "code",
   "execution_count": 46,
   "id": "90f1bb8d-65ac-4ac2-b3db-881e39f8f43a",
   "metadata": {},
   "outputs": [
    {
     "data": {
      "text/plain": [
       "<AxesSubplot:title={'center':'Convergence plot'}, xlabel='Number of calls $n$', ylabel='$\\\\min f(x)$ after $n$ calls'>"
      ]
     },
     "execution_count": 46,
     "metadata": {},
     "output_type": "execute_result"
    },
    {
     "data": {
      "image/png": "[encoded data removed]",
      "text/plain": [
       "<Figure size 432x288 with 1 Axes>"
      ]
     },
     "metadata": {
      "needs_background": "light"
     },
     "output_type": "display_data"
    }
   ],
   "source": [
    "from skopt.plots import plot_convergence\n",
    "plot_convergence(result)"
   ]
  },
  {
   "cell_type": "code",
   "execution_count": 49,
   "id": "85cf685f-72cd-43a3-957d-d8fd5afc8ed4",
   "metadata": {},
   "outputs": [],
   "source": [
    "# %%time\n",
    "# #Tree structured Parzen Estimator\n",
    "\n",
    "# from hyperopt import hp, fmin, tpe, Trials\n",
    "# from hyperopt.pyll.base import scope\n",
    "\n",
    "# param_space = {\n",
    "#     \"max_depth\": scope.int(hp.uniform(\"max_depth\", 1, 15, 1)),\n",
    "#     \"n_estimators\": scope.int(hp.uniform(\"n_estimators\", 100, 1500, 1)),\n",
    "#     \"criterion\": hp.choice(\"criterion\", [\"gini\", \"entropy\"]),\n",
    "#     \"max_features\": hp.uniform(\"max_features\", 0, 1)\n",
    "# }\n",
    "\n",
    "# optimization_func = partial(optimize, x=x, y=y)\n",
    "# trials = Trials()\n",
    "\n",
    "# hopt = fmin(fn=optimization_func, space=param_space, algo=tpe.suggest, max_evals=10, trials=trials)\n",
    "# print(hopt)"
   ]
  },
  {
   "cell_type": "code",
   "execution_count": null,
   "id": "a05aad4e-7b8f-4c1a-b567-3190fef7e70d",
   "metadata": {},
   "outputs": [],
   "source": []
  },
  {
   "cell_type": "code",
   "execution_count": null,
   "id": "3218efc7-709d-4247-8b6e-2f2b20835ff5",
   "metadata": {},
   "outputs": [],
   "source": []
  },
  {
   "cell_type": "code",
   "execution_count": null,
   "id": "6bc31123-e5a7-40d3-9579-4e4a56cd76f0",
   "metadata": {},
   "outputs": [],
   "source": []
  }
 ],
 "metadata": {
  "kernelspec": {
   "display_name": "Python 3",
   "language": "python",
   "name": "python3"
  },
  "language_info": {
   "codemirror_mode": {
    "name": "ipython",
    "version": 3
   },
   "file_extension": ".py",
   "mimetype": "text/x-python",
   "name": "python",
   "nbconvert_exporter": "python",
   "pygments_lexer": "ipython3",
   "version": "3.8.10"
  }
 },
 "nbformat": 4,
 "nbformat_minor": 5
}
