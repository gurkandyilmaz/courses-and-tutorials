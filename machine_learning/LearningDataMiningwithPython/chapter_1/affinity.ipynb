{
 "cells": [
  {
   "cell_type": "markdown",
   "metadata": {},
   "source": [
    "#### \"Learning Data Mining with Python - Chapter 3\"\n",
    "This Jupyter notebook contains the python implementation of the affinity analysis and classification."
   ]
  },
  {
   "cell_type": "markdown",
   "metadata": {},
   "source": [
    "#### 1-) Affinity Analysis"
   ]
  },
  {
   "cell_type": "code",
   "execution_count": 22,
   "metadata": {
    "scrolled": true
   },
   "outputs": [],
   "source": [
    "# import Numpy package, load example txt file\n",
    "import numpy as np\n",
    "data = np.loadtxt(r'Chapter 1\\affinity_dataset.txt')"
   ]
  },
  {
   "cell_type": "code",
   "execution_count": 23,
   "metadata": {},
   "outputs": [
    {
     "data": {
      "text/plain": [
       "array([[0., 0., 1., 1., 1.],\n",
       "       [1., 1., 0., 1., 0.],\n",
       "       [1., 0., 1., 1., 0.],\n",
       "       [0., 0., 1., 1., 1.],\n",
       "       [0., 1., 0., 0., 1.]])"
      ]
     },
     "execution_count": 23,
     "metadata": {},
     "output_type": "execute_result"
    }
   ],
   "source": [
    "# The txt file shows which product people bought in a supermarket.\n",
    "# 1's show the sold products. The products are bread,milk,chesee,apple,banana.\n",
    "data[:5]"
   ]
  },
  {
   "cell_type": "code",
   "execution_count": 24,
   "metadata": {},
   "outputs": [],
   "source": [
    "# Column names\n",
    "features = ['bread', 'milk', 'cheese', 'apples', 'bananas']"
   ]
  },
  {
   "cell_type": "code",
   "execution_count": 25,
   "metadata": {},
   "outputs": [
    {
     "name": "stdout",
     "output_type": "stream",
     "text": [
      "Row: 100, Column: 5\n"
     ]
    }
   ],
   "source": [
    "data_samples, data_features = data.shape\n",
    "print(f\"Row: {data_samples}, Column: {data_features}\")"
   ]
  },
  {
   "cell_type": "code",
   "execution_count": 26,
   "metadata": {},
   "outputs": [
    {
     "name": "stdout",
     "output_type": "stream",
     "text": [
      "Number of People bought Apples: 36\n"
     ]
    }
   ],
   "source": [
    "# Number of people purchased Apples\n",
    "num_apples = 0\n",
    "for i in range(len(data)):\n",
    "    if data[i][3] == 1:\n",
    "        num_apples += 1\n",
    "print(f'Number of People bought Apples: {num_apples}')"
   ]
  },
  {
   "cell_type": "code",
   "execution_count": 27,
   "metadata": {},
   "outputs": [
    {
     "name": "stdout",
     "output_type": "stream",
     "text": [
      "Num of People purchased bananas: 59\n"
     ]
    }
   ],
   "source": [
    "# Num of people purchased bananas\n",
    "num_bananas = 0\n",
    "for row1 in data:\n",
    "    if row1[4] == 1:\n",
    "        num_bananas += 1\n",
    "print(\"Num of People purchased bananas: {0}\".format(num_bananas))"
   ]
  },
  {
   "cell_type": "code",
   "execution_count": 28,
   "metadata": {},
   "outputs": [
    {
     "name": "stdout",
     "output_type": "stream",
     "text": [
      "Num of Valid : 21, Invalid: 15\n"
     ]
    }
   ],
   "source": [
    "# Num of peop. purc. apple and bananas together\n",
    "num_app_ban = 0\n",
    "rule_valid = rule_invalid = 0\n",
    "for row2 in data:\n",
    "    if row2[3]==1:\n",
    "        if row2[4] == 1:\n",
    "            num_app_ban += 1\n",
    "            rule_valid += 1\n",
    "        else:\n",
    "            rule_invalid += 1\n",
    "        \n",
    "print('Num of Valid : {0}, Invalid: {1}'.format(rule_valid, rule_invalid))"
   ]
  },
  {
   "cell_type": "code",
   "execution_count": 29,
   "metadata": {},
   "outputs": [
    {
     "name": "stdout",
     "output_type": "stream",
     "text": [
      "Support: 21, confidence: 0.583, 58.3%\n"
     ]
    }
   ],
   "source": [
    "# Rule: If people buy apples, then thew will also buy bananas \n",
    "# support: Num. of samples that the above rule occurs\n",
    "# Confidence : Accuracy of the above rule.\n",
    "supp = rule_valid\n",
    "conf = rule_valid / num_apples\n",
    "print(\"Support: {0}, confidence: {1:.3f}, {2:.1f}%\"\n",
    "      .format(supp,conf,100*conf))\n"
   ]
  },
  {
   "cell_type": "code",
   "execution_count": 30,
   "metadata": {},
   "outputs": [
    {
     "name": "stdout",
     "output_type": "stream",
     "text": [
      "Num. of purchased items: \n"
     ]
    },
    {
     "data": {
      "text/plain": [
       "defaultdict(int,\n",
       "            {'cheese': 41,\n",
       "             'apples': 36,\n",
       "             'bananas': 59,\n",
       "             'bread': 27,\n",
       "             'milk': 46})"
      ]
     },
     "execution_count": 30,
     "metadata": {},
     "output_type": "execute_result"
    }
   ],
   "source": [
    "# Compute Support and Confidence for all possible Rules.\n",
    "from collections import defaultdict\n",
    "valid_rules = defaultdict(int)\n",
    "invalid_rules = defaultdict(int)\n",
    "num_occurences = defaultdict(int)\n",
    "\n",
    "for sample in data:\n",
    "    for premise in range(data_features):\n",
    "        if sample[premise] == 1:\n",
    "            num_occurences[features[premise]] += 1\n",
    "            for conclusion in range(data_features):\n",
    "                if premise == conclusion:\n",
    "                    continue\n",
    "                else:\n",
    "                    if sample[conclusion] == 1:\n",
    "                        valid_rules[(features[premise],features[conclusion])] +=1\n",
    "                    else:\n",
    "                        invalid_rules[(features[premise],features[conclusion])] +=1         \n",
    "        else:\n",
    "            continue\n",
    "support = valid_rules \n",
    "confidence = defaultdict(float)\n",
    "for prem_name, conc_name in support.keys():\n",
    "    confidence[(prem_name, conc_name)] = support[(prem_name,conc_name)]/num_occurences[prem_name]\n",
    "print(f\"Num. of purchased items: \")\n",
    "num_occurences"
   ]
  },
  {
   "cell_type": "code",
   "execution_count": 31,
   "metadata": {
    "scrolled": true
   },
   "outputs": [
    {
     "name": "stdout",
     "output_type": "stream",
     "text": [
      "Rule: If a person buys cheese, they will also buy apples\n",
      "- Confidence: 61.0%\n",
      "- Support: 25\n",
      "\n",
      "Rule: If a person buys cheese, they will also buy bananas\n",
      "- Confidence: 65.9%\n",
      "- Support: 27\n",
      "\n",
      "Rule: If a person buys apples, they will also buy cheese\n",
      "- Confidence: 69.4%\n",
      "- Support: 25\n",
      "\n",
      "Rule: If a person buys apples, they will also buy bananas\n",
      "- Confidence: 58.3%\n",
      "- Support: 21\n",
      "\n",
      "Rule: If a person buys bananas, they will also buy cheese\n",
      "- Confidence: 45.8%\n",
      "- Support: 27\n",
      "\n",
      "Rule: If a person buys bananas, they will also buy apples\n",
      "- Confidence: 35.6%\n",
      "- Support: 21\n",
      "\n",
      "Rule: If a person buys bread, they will also buy milk\n",
      "- Confidence: 51.9%\n",
      "- Support: 14\n",
      "\n",
      "Rule: If a person buys bread, they will also buy apples\n",
      "- Confidence: 18.5%\n",
      "- Support: 5\n",
      "\n",
      "Rule: If a person buys milk, they will also buy bread\n",
      "- Confidence: 30.4%\n",
      "- Support: 14\n",
      "\n",
      "Rule: If a person buys milk, they will also buy apples\n",
      "- Confidence: 19.6%\n",
      "- Support: 9\n",
      "\n",
      "Rule: If a person buys apples, they will also buy bread\n",
      "- Confidence: 13.9%\n",
      "- Support: 5\n",
      "\n",
      "Rule: If a person buys apples, they will also buy milk\n",
      "- Confidence: 25.0%\n",
      "- Support: 9\n",
      "\n",
      "Rule: If a person buys bread, they will also buy cheese\n",
      "- Confidence: 14.8%\n",
      "- Support: 4\n",
      "\n",
      "Rule: If a person buys cheese, they will also buy bread\n",
      "- Confidence: 9.8%\n",
      "- Support: 4\n",
      "\n",
      "Rule: If a person buys milk, they will also buy bananas\n",
      "- Confidence: 41.3%\n",
      "- Support: 19\n",
      "\n",
      "Rule: If a person buys bananas, they will also buy milk\n",
      "- Confidence: 32.2%\n",
      "- Support: 19\n",
      "\n",
      "Rule: If a person buys bread, they will also buy bananas\n",
      "- Confidence: 63.0%\n",
      "- Support: 17\n",
      "\n",
      "Rule: If a person buys bananas, they will also buy bread\n",
      "- Confidence: 28.8%\n",
      "- Support: 17\n",
      "\n",
      "Rule: If a person buys milk, they will also buy cheese\n",
      "- Confidence: 15.2%\n",
      "- Support: 7\n",
      "\n",
      "Rule: If a person buys cheese, they will also buy milk\n",
      "- Confidence: 17.1%\n",
      "- Support: 7\n",
      "\n"
     ]
    }
   ],
   "source": [
    "# print all the rules with their support and confidence\n",
    "for name1, name2 in confidence.keys():\n",
    "    print('Rule:', end=' ')\n",
    "    print('If a person buys {0}, they will also buy {1}'.\n",
    "         format(name1,name2))\n",
    "    print('- Confidence: {0:.1f}%'\n",
    "          .format(100*confidence[(name1,name2)]))\n",
    "    print('- Support: {0}'.format(support[(name1,name2)]))\n",
    "    print()"
   ]
  },
  {
   "cell_type": "code",
   "execution_count": 32,
   "metadata": {
    "scrolled": true
   },
   "outputs": [],
   "source": [
    "from operator import itemgetter\n",
    "sorted_support = sorted(support.items(), key=itemgetter(1), reverse=True)\n",
    "sorted_confidence = sorted(confidence.items(), key=itemgetter(1), reverse=True)"
   ]
  },
  {
   "cell_type": "markdown",
   "metadata": {},
   "source": [
    "#### 2-) Classification"
   ]
  },
  {
   "cell_type": "code",
   "execution_count": 33,
   "metadata": {},
   "outputs": [],
   "source": [
    "from sklearn.datasets import load_iris\n",
    "dataset = load_iris()\n",
    "dataset_row ,dataset_column = dataset.data, dataset.target\n",
    "n_samples , n_features = dataset_row.shape"
   ]
  },
  {
   "cell_type": "code",
   "execution_count": 34,
   "metadata": {},
   "outputs": [
    {
     "data": {
      "text/plain": [
       "array([5.84, 3.06, 3.76, 1.2 ])"
      ]
     },
     "execution_count": 34,
     "metadata": {},
     "output_type": "execute_result"
    }
   ],
   "source": [
    "attribute_means = np.round(dataset_row.mean(axis=0),2)\n",
    "attribute_means"
   ]
  },
  {
   "cell_type": "code",
   "execution_count": 35,
   "metadata": {},
   "outputs": [],
   "source": [
    "dataset_d = np.array(dataset_row >= attribute_means, dtype='int')"
   ]
  },
  {
   "cell_type": "code",
   "execution_count": 36,
   "metadata": {},
   "outputs": [
    {
     "name": "stdout",
     "output_type": "stream",
     "text": [
      "There are (112,) training samples\n",
      "There are (38,) testing samples\n"
     ]
    }
   ],
   "source": [
    "from sklearn.model_selection import train_test_split\n",
    "dataset_row_train, dataset_row_test, dataset_column_train, dataset_column_test = train_test_split(dataset_d,dataset_column,random_state=14)\n",
    "print(\"There are {} training samples\".format(dataset_column_train.shape))\n",
    "print(\"There are {} testing samples\".format(dataset_column_test.shape))"
   ]
  },
  {
   "cell_type": "code",
   "execution_count": null,
   "metadata": {},
   "outputs": [],
   "source": [
    "\n",
    "\n"
   ]
  }
 ],
 "metadata": {
  "kernelspec": {
   "display_name": "Python 3",
   "language": "python",
   "name": "python3"
  },
  "language_info": {
   "codemirror_mode": {
    "name": "ipython",
    "version": 3
   },
   "file_extension": ".py",
   "mimetype": "text/x-python",
   "name": "python",
   "nbconvert_exporter": "python",
   "pygments_lexer": "ipython3",
   "version": "3.7.3"
  }
 },
 "nbformat": 4,
 "nbformat_minor": 2
}
