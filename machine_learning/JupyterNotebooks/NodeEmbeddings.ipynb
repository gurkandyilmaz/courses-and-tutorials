{
 "cells": [
  {
   "cell_type": "markdown",
   "id": "d5e8c768",
   "metadata": {
    "papermill": {
     "duration": 0.023224,
     "end_time": "2021-09-24T23:35:23.730185",
     "exception": false,
     "start_time": "2021-09-24T23:35:23.706961",
     "status": "completed"
    },
    "tags": []
   },
   "source": [
    "# **Utilization of Node Embeddings in Predicting Employee Attrition (Or another strange title which i have no idea)**\n",
    "\n",
    "**NOTE**: You can copy or edit this notebook. You can propose an update, point out the weak parts of the notebook or more. All are appreciated. Everyting that I wrote in this notebook came from the free sources on the internet so this is another free source you can learn from. \n",
    "\n",
    "**Why does this notebook even exist** :)\n",
    "\n",
    "I was reading the networkx(you know the python library) docs to get an idea of how to analyze a graph network containing employee information of a company, then I ran across the node2vec(you also know this, don't you) library. Long story short, I wanted to write a notebook that demonstrates the use of node embeddings which will be used (or should i say 'utilized') on the HR data I was working.\n",
    "\n",
    "# **Summary**\n",
    "\n",
    "**First**, there will be a brief introduction about the methods of transforming the data to a numeric form.\n",
    "\n",
    "**Second**, we will be seeing a networkx graph built on the IBM HR dataset,\n",
    "\n",
    "**Third**, we will be fitting a node embedding model on the graph we just created,\n",
    "\n",
    "**Fourth**, we will use the embeddings from the third step in predicting the attrition (I will not build fully optimized models since that is not the main point of this notebook. Also I have no intention of doing it. sad!)\n",
    "\n",
    "**Conclusion**, I will summarize what has just happened in this notebook.\n",
    "\n",
    "\n",
    "Let's get started.\n",
    "\n",
    "# **First Part - Introduction (as i said, it will be brief, no irony)**\n",
    "\n",
    "In order for most machine learning models to work, the information in the dataset needs to be represented numerically. After the dataset is represented numerically only then it can be fed into the models.My goal is to use a different transformation method called node embedding for evaluating the feature vectors. We will transform the categorical features in the dataset with the help of node2vec algorithm fitted on a graph network, instead of transforming the dataset using onehot, label or ordinal encoders.\n",
    "\n",
    "We will explore the use of node vectors for predicting the employee attrition. This is an experimental work and it is intented to provide an alternative way of representing the data numerically and it needs further tuning. After getting the node vectors we can utilize them in any machine learning model and process as we wish."
   ]
  },
  {
   "cell_type": "code",
   "execution_count": 1,
   "id": "fbfcb80d",
   "metadata": {
    "execution": {
     "iopub.execute_input": "2021-09-24T23:35:23.788174Z",
     "iopub.status.busy": "2021-09-24T23:35:23.787532Z",
     "iopub.status.idle": "2021-09-24T23:35:36.328732Z",
     "shell.execute_reply": "2021-09-24T23:35:36.327999Z",
     "shell.execute_reply.started": "2021-09-24T23:19:03.675526Z"
    },
    "papermill": {
     "duration": 12.573963,
     "end_time": "2021-09-24T23:35:36.328903",
     "exception": false,
     "start_time": "2021-09-24T23:35:23.754940",
     "status": "completed"
    },
    "tags": []
   },
   "outputs": [
    {
     "name": "stdout",
     "output_type": "stream",
     "text": [
      "Collecting node2vec\r\n",
      "  Downloading node2vec-0.4.3.tar.gz (4.6 kB)\r\n",
      "Requirement already satisfied: networkx in /opt/conda/lib/python3.7/site-packages (from node2vec) (2.5)\r\n",
      "Requirement already satisfied: gensim in /opt/conda/lib/python3.7/site-packages (from node2vec) (4.0.1)\r\n",
      "Requirement already satisfied: numpy in /opt/conda/lib/python3.7/site-packages (from node2vec) (1.19.5)\r\n",
      "Requirement already satisfied: tqdm in /opt/conda/lib/python3.7/site-packages (from node2vec) (4.62.1)\r\n",
      "Requirement already satisfied: joblib>=0.13.2 in /opt/conda/lib/python3.7/site-packages (from node2vec) (1.0.1)\r\n",
      "Requirement already satisfied: smart-open>=1.8.1 in /opt/conda/lib/python3.7/site-packages (from gensim->node2vec) (5.2.1)\r\n",
      "Requirement already satisfied: scipy>=0.18.1 in /opt/conda/lib/python3.7/site-packages (from gensim->node2vec) (1.7.1)\r\n",
      "Requirement already satisfied: decorator>=4.3.0 in /opt/conda/lib/python3.7/site-packages (from networkx->node2vec) (5.0.9)\r\n",
      "Building wheels for collected packages: node2vec\r\n",
      "  Building wheel for node2vec (setup.py) ... \u001b[?25l-\b \b\\\b \bdone\r\n",
      "\u001b[?25h  Created wheel for node2vec: filename=node2vec-0.4.3-py3-none-any.whl size=5978 sha256=edbc9229f8cf4a7bed2dfdf9227e37bda038e954b06b0b64ac81998108816044\r\n",
      "  Stored in directory: /root/.cache/pip/wheels/07/62/78/5202cb8c03cbf1593b48a8a442fca8ceec2a8c80e22318bae9\r\n",
      "Successfully built node2vec\r\n",
      "Installing collected packages: node2vec\r\n",
      "Successfully installed node2vec-0.4.3\r\n",
      "\u001b[33mWARNING: Running pip as the 'root' user can result in broken permissions and conflicting behaviour with the system package manager. It is recommended to use a virtual environment instead: https://pip.pypa.io/warnings/venv\u001b[0m\r\n"
     ]
    }
   ],
   "source": [
    "# Required for node embeddings\n",
    "!pip install node2vec"
   ]
  },
  {
   "cell_type": "code",
   "execution_count": 2,
   "id": "2e769c4d",
   "metadata": {
    "execution": {
     "iopub.execute_input": "2021-09-24T23:35:36.386738Z",
     "iopub.status.busy": "2021-09-24T23:35:36.386026Z",
     "iopub.status.idle": "2021-09-24T23:35:39.038349Z",
     "shell.execute_reply": "2021-09-24T23:35:39.037778Z",
     "shell.execute_reply.started": "2021-09-24T23:19:11.666368Z"
    },
    "papermill": {
     "duration": 2.684098,
     "end_time": "2021-09-24T23:35:39.038518",
     "exception": false,
     "start_time": "2021-09-24T23:35:36.354420",
     "status": "completed"
    },
    "tags": []
   },
   "outputs": [
    {
     "data": {
      "text/html": [
       "<div>\n",
       "<style scoped>\n",
       "    .dataframe tbody tr th:only-of-type {\n",
       "        vertical-align: middle;\n",
       "    }\n",
       "\n",
       "    .dataframe tbody tr th {\n",
       "        vertical-align: top;\n",
       "    }\n",
       "\n",
       "    .dataframe thead th {\n",
       "        text-align: right;\n",
       "    }\n",
       "</style>\n",
       "<table border=\"1\" class=\"dataframe\">\n",
       "  <thead>\n",
       "    <tr style=\"text-align: right;\">\n",
       "      <th></th>\n",
       "      <th>Age</th>\n",
       "      <th>Attrition</th>\n",
       "      <th>BusinessTravel</th>\n",
       "      <th>DailyRate</th>\n",
       "      <th>Department</th>\n",
       "      <th>DistanceFromHome</th>\n",
       "      <th>Education</th>\n",
       "      <th>EducationField</th>\n",
       "      <th>EmployeeCount</th>\n",
       "      <th>EmployeeNumber</th>\n",
       "      <th>...</th>\n",
       "      <th>RelationshipSatisfaction</th>\n",
       "      <th>StandardHours</th>\n",
       "      <th>StockOptionLevel</th>\n",
       "      <th>TotalWorkingYears</th>\n",
       "      <th>TrainingTimesLastYear</th>\n",
       "      <th>WorkLifeBalance</th>\n",
       "      <th>YearsAtCompany</th>\n",
       "      <th>YearsInCurrentRole</th>\n",
       "      <th>YearsSinceLastPromotion</th>\n",
       "      <th>YearsWithCurrManager</th>\n",
       "    </tr>\n",
       "  </thead>\n",
       "  <tbody>\n",
       "    <tr>\n",
       "      <th>0</th>\n",
       "      <td>41</td>\n",
       "      <td>Yes</td>\n",
       "      <td>Travel_Rarely</td>\n",
       "      <td>1102</td>\n",
       "      <td>Sales</td>\n",
       "      <td>1</td>\n",
       "      <td>2</td>\n",
       "      <td>Life Sciences</td>\n",
       "      <td>1</td>\n",
       "      <td>1</td>\n",
       "      <td>...</td>\n",
       "      <td>1</td>\n",
       "      <td>80</td>\n",
       "      <td>0</td>\n",
       "      <td>8</td>\n",
       "      <td>0</td>\n",
       "      <td>1</td>\n",
       "      <td>6</td>\n",
       "      <td>4</td>\n",
       "      <td>0</td>\n",
       "      <td>5</td>\n",
       "    </tr>\n",
       "    <tr>\n",
       "      <th>1</th>\n",
       "      <td>49</td>\n",
       "      <td>No</td>\n",
       "      <td>Travel_Frequently</td>\n",
       "      <td>279</td>\n",
       "      <td>Research &amp; Development</td>\n",
       "      <td>8</td>\n",
       "      <td>1</td>\n",
       "      <td>Life Sciences</td>\n",
       "      <td>1</td>\n",
       "      <td>2</td>\n",
       "      <td>...</td>\n",
       "      <td>4</td>\n",
       "      <td>80</td>\n",
       "      <td>1</td>\n",
       "      <td>10</td>\n",
       "      <td>3</td>\n",
       "      <td>3</td>\n",
       "      <td>10</td>\n",
       "      <td>7</td>\n",
       "      <td>1</td>\n",
       "      <td>7</td>\n",
       "    </tr>\n",
       "    <tr>\n",
       "      <th>2</th>\n",
       "      <td>37</td>\n",
       "      <td>Yes</td>\n",
       "      <td>Travel_Rarely</td>\n",
       "      <td>1373</td>\n",
       "      <td>Research &amp; Development</td>\n",
       "      <td>2</td>\n",
       "      <td>2</td>\n",
       "      <td>Other</td>\n",
       "      <td>1</td>\n",
       "      <td>4</td>\n",
       "      <td>...</td>\n",
       "      <td>2</td>\n",
       "      <td>80</td>\n",
       "      <td>0</td>\n",
       "      <td>7</td>\n",
       "      <td>3</td>\n",
       "      <td>3</td>\n",
       "      <td>0</td>\n",
       "      <td>0</td>\n",
       "      <td>0</td>\n",
       "      <td>0</td>\n",
       "    </tr>\n",
       "    <tr>\n",
       "      <th>3</th>\n",
       "      <td>33</td>\n",
       "      <td>No</td>\n",
       "      <td>Travel_Frequently</td>\n",
       "      <td>1392</td>\n",
       "      <td>Research &amp; Development</td>\n",
       "      <td>3</td>\n",
       "      <td>4</td>\n",
       "      <td>Life Sciences</td>\n",
       "      <td>1</td>\n",
       "      <td>5</td>\n",
       "      <td>...</td>\n",
       "      <td>3</td>\n",
       "      <td>80</td>\n",
       "      <td>0</td>\n",
       "      <td>8</td>\n",
       "      <td>3</td>\n",
       "      <td>3</td>\n",
       "      <td>8</td>\n",
       "      <td>7</td>\n",
       "      <td>3</td>\n",
       "      <td>0</td>\n",
       "    </tr>\n",
       "    <tr>\n",
       "      <th>4</th>\n",
       "      <td>27</td>\n",
       "      <td>No</td>\n",
       "      <td>Travel_Rarely</td>\n",
       "      <td>591</td>\n",
       "      <td>Research &amp; Development</td>\n",
       "      <td>2</td>\n",
       "      <td>1</td>\n",
       "      <td>Medical</td>\n",
       "      <td>1</td>\n",
       "      <td>7</td>\n",
       "      <td>...</td>\n",
       "      <td>4</td>\n",
       "      <td>80</td>\n",
       "      <td>1</td>\n",
       "      <td>6</td>\n",
       "      <td>3</td>\n",
       "      <td>3</td>\n",
       "      <td>2</td>\n",
       "      <td>2</td>\n",
       "      <td>2</td>\n",
       "      <td>2</td>\n",
       "    </tr>\n",
       "    <tr>\n",
       "      <th>...</th>\n",
       "      <td>...</td>\n",
       "      <td>...</td>\n",
       "      <td>...</td>\n",
       "      <td>...</td>\n",
       "      <td>...</td>\n",
       "      <td>...</td>\n",
       "      <td>...</td>\n",
       "      <td>...</td>\n",
       "      <td>...</td>\n",
       "      <td>...</td>\n",
       "      <td>...</td>\n",
       "      <td>...</td>\n",
       "      <td>...</td>\n",
       "      <td>...</td>\n",
       "      <td>...</td>\n",
       "      <td>...</td>\n",
       "      <td>...</td>\n",
       "      <td>...</td>\n",
       "      <td>...</td>\n",
       "      <td>...</td>\n",
       "      <td>...</td>\n",
       "    </tr>\n",
       "    <tr>\n",
       "      <th>1465</th>\n",
       "      <td>36</td>\n",
       "      <td>No</td>\n",
       "      <td>Travel_Frequently</td>\n",
       "      <td>884</td>\n",
       "      <td>Research &amp; Development</td>\n",
       "      <td>23</td>\n",
       "      <td>2</td>\n",
       "      <td>Medical</td>\n",
       "      <td>1</td>\n",
       "      <td>2061</td>\n",
       "      <td>...</td>\n",
       "      <td>3</td>\n",
       "      <td>80</td>\n",
       "      <td>1</td>\n",
       "      <td>17</td>\n",
       "      <td>3</td>\n",
       "      <td>3</td>\n",
       "      <td>5</td>\n",
       "      <td>2</td>\n",
       "      <td>0</td>\n",
       "      <td>3</td>\n",
       "    </tr>\n",
       "    <tr>\n",
       "      <th>1466</th>\n",
       "      <td>39</td>\n",
       "      <td>No</td>\n",
       "      <td>Travel_Rarely</td>\n",
       "      <td>613</td>\n",
       "      <td>Research &amp; Development</td>\n",
       "      <td>6</td>\n",
       "      <td>1</td>\n",
       "      <td>Medical</td>\n",
       "      <td>1</td>\n",
       "      <td>2062</td>\n",
       "      <td>...</td>\n",
       "      <td>1</td>\n",
       "      <td>80</td>\n",
       "      <td>1</td>\n",
       "      <td>9</td>\n",
       "      <td>5</td>\n",
       "      <td>3</td>\n",
       "      <td>7</td>\n",
       "      <td>7</td>\n",
       "      <td>1</td>\n",
       "      <td>7</td>\n",
       "    </tr>\n",
       "    <tr>\n",
       "      <th>1467</th>\n",
       "      <td>27</td>\n",
       "      <td>No</td>\n",
       "      <td>Travel_Rarely</td>\n",
       "      <td>155</td>\n",
       "      <td>Research &amp; Development</td>\n",
       "      <td>4</td>\n",
       "      <td>3</td>\n",
       "      <td>Life Sciences</td>\n",
       "      <td>1</td>\n",
       "      <td>2064</td>\n",
       "      <td>...</td>\n",
       "      <td>2</td>\n",
       "      <td>80</td>\n",
       "      <td>1</td>\n",
       "      <td>6</td>\n",
       "      <td>0</td>\n",
       "      <td>3</td>\n",
       "      <td>6</td>\n",
       "      <td>2</td>\n",
       "      <td>0</td>\n",
       "      <td>3</td>\n",
       "    </tr>\n",
       "    <tr>\n",
       "      <th>1468</th>\n",
       "      <td>49</td>\n",
       "      <td>No</td>\n",
       "      <td>Travel_Frequently</td>\n",
       "      <td>1023</td>\n",
       "      <td>Sales</td>\n",
       "      <td>2</td>\n",
       "      <td>3</td>\n",
       "      <td>Medical</td>\n",
       "      <td>1</td>\n",
       "      <td>2065</td>\n",
       "      <td>...</td>\n",
       "      <td>4</td>\n",
       "      <td>80</td>\n",
       "      <td>0</td>\n",
       "      <td>17</td>\n",
       "      <td>3</td>\n",
       "      <td>2</td>\n",
       "      <td>9</td>\n",
       "      <td>6</td>\n",
       "      <td>0</td>\n",
       "      <td>8</td>\n",
       "    </tr>\n",
       "    <tr>\n",
       "      <th>1469</th>\n",
       "      <td>34</td>\n",
       "      <td>No</td>\n",
       "      <td>Travel_Rarely</td>\n",
       "      <td>628</td>\n",
       "      <td>Research &amp; Development</td>\n",
       "      <td>8</td>\n",
       "      <td>3</td>\n",
       "      <td>Medical</td>\n",
       "      <td>1</td>\n",
       "      <td>2068</td>\n",
       "      <td>...</td>\n",
       "      <td>1</td>\n",
       "      <td>80</td>\n",
       "      <td>0</td>\n",
       "      <td>6</td>\n",
       "      <td>3</td>\n",
       "      <td>4</td>\n",
       "      <td>4</td>\n",
       "      <td>3</td>\n",
       "      <td>1</td>\n",
       "      <td>2</td>\n",
       "    </tr>\n",
       "  </tbody>\n",
       "</table>\n",
       "<p>1470 rows × 35 columns</p>\n",
       "</div>"
      ],
      "text/plain": [
       "      Age Attrition     BusinessTravel  DailyRate              Department  \\\n",
       "0      41       Yes      Travel_Rarely       1102                   Sales   \n",
       "1      49        No  Travel_Frequently        279  Research & Development   \n",
       "2      37       Yes      Travel_Rarely       1373  Research & Development   \n",
       "3      33        No  Travel_Frequently       1392  Research & Development   \n",
       "4      27        No      Travel_Rarely        591  Research & Development   \n",
       "...   ...       ...                ...        ...                     ...   \n",
       "1465   36        No  Travel_Frequently        884  Research & Development   \n",
       "1466   39        No      Travel_Rarely        613  Research & Development   \n",
       "1467   27        No      Travel_Rarely        155  Research & Development   \n",
       "1468   49        No  Travel_Frequently       1023                   Sales   \n",
       "1469   34        No      Travel_Rarely        628  Research & Development   \n",
       "\n",
       "      DistanceFromHome  Education EducationField  EmployeeCount  \\\n",
       "0                    1          2  Life Sciences              1   \n",
       "1                    8          1  Life Sciences              1   \n",
       "2                    2          2          Other              1   \n",
       "3                    3          4  Life Sciences              1   \n",
       "4                    2          1        Medical              1   \n",
       "...                ...        ...            ...            ...   \n",
       "1465                23          2        Medical              1   \n",
       "1466                 6          1        Medical              1   \n",
       "1467                 4          3  Life Sciences              1   \n",
       "1468                 2          3        Medical              1   \n",
       "1469                 8          3        Medical              1   \n",
       "\n",
       "      EmployeeNumber  ...  RelationshipSatisfaction StandardHours  \\\n",
       "0                  1  ...                         1            80   \n",
       "1                  2  ...                         4            80   \n",
       "2                  4  ...                         2            80   \n",
       "3                  5  ...                         3            80   \n",
       "4                  7  ...                         4            80   \n",
       "...              ...  ...                       ...           ...   \n",
       "1465            2061  ...                         3            80   \n",
       "1466            2062  ...                         1            80   \n",
       "1467            2064  ...                         2            80   \n",
       "1468            2065  ...                         4            80   \n",
       "1469            2068  ...                         1            80   \n",
       "\n",
       "      StockOptionLevel  TotalWorkingYears  TrainingTimesLastYear  \\\n",
       "0                    0                  8                      0   \n",
       "1                    1                 10                      3   \n",
       "2                    0                  7                      3   \n",
       "3                    0                  8                      3   \n",
       "4                    1                  6                      3   \n",
       "...                ...                ...                    ...   \n",
       "1465                 1                 17                      3   \n",
       "1466                 1                  9                      5   \n",
       "1467                 1                  6                      0   \n",
       "1468                 0                 17                      3   \n",
       "1469                 0                  6                      3   \n",
       "\n",
       "     WorkLifeBalance  YearsAtCompany YearsInCurrentRole  \\\n",
       "0                  1               6                  4   \n",
       "1                  3              10                  7   \n",
       "2                  3               0                  0   \n",
       "3                  3               8                  7   \n",
       "4                  3               2                  2   \n",
       "...              ...             ...                ...   \n",
       "1465               3               5                  2   \n",
       "1466               3               7                  7   \n",
       "1467               3               6                  2   \n",
       "1468               2               9                  6   \n",
       "1469               4               4                  3   \n",
       "\n",
       "      YearsSinceLastPromotion  YearsWithCurrManager  \n",
       "0                           0                     5  \n",
       "1                           1                     7  \n",
       "2                           0                     0  \n",
       "3                           3                     0  \n",
       "4                           2                     2  \n",
       "...                       ...                   ...  \n",
       "1465                        0                     3  \n",
       "1466                        1                     7  \n",
       "1467                        0                     3  \n",
       "1468                        0                     8  \n",
       "1469                        1                     2  \n",
       "\n",
       "[1470 rows x 35 columns]"
      ]
     },
     "execution_count": 2,
     "metadata": {},
     "output_type": "execute_result"
    }
   ],
   "source": [
    "from pathlib import Path\n",
    "import pickle\n",
    "from time import time\n",
    "from typing import List, Dict, Set, Tuple\n",
    "\n",
    "import pandas as pd\n",
    "import numpy as np\n",
    "import matplotlib.pyplot as plt\n",
    "import seaborn\n",
    "\n",
    "import gensim\n",
    "import networkx as nx\n",
    "from node2vec import Node2Vec\n",
    "\n",
    "from pandas_profiling import ProfileReport\n",
    "\n",
    "attrition_data = '../input/ibm-hr-analytics-attrition-dataset/WA_Fn-UseC_-HR-Employee-Attrition.csv'\n",
    "df_attrition = pd.read_csv(attrition_data)\n",
    "df_attrition"
   ]
  },
  {
   "cell_type": "markdown",
   "id": "a1074f86",
   "metadata": {
    "papermill": {
     "duration": 0.02596,
     "end_time": "2021-09-24T23:35:39.091309",
     "exception": false,
     "start_time": "2021-09-24T23:35:39.065349",
     "status": "completed"
    },
    "tags": []
   },
   "source": [
    "# **Second Part - Building the Networkx Graph on HR dataset**\n",
    "\n",
    "(If you haven't heard the terms nodes, edges, graphs before, the internet will help you the most.)\n",
    "\n",
    "First we will observe the profiling report from pandas_profiling. What it does is that it profiles the data(clearly explained, you can google it by the way if you don't believe me). This report includes visualizations for the distribution of data for each column as well as statistical measures. For example correlation is just one of them.\n",
    "\n",
    "I took the notes of those columns which were highly correlated, also the columns that had mostly constant or null values. You could also run the profiler to get the report which was commented out.\n",
    "\n",
    "Based on the above, I selected 6 columns, 5 as the features and 1 as the target, to build the graph. (Possible improvement point. feature selection can be done instead of blindly dropping the columns.)\n",
    "\n",
    "There is a graph builder class that has two methods, namely, build_graph and draw_graph. Build_graph takes the dataframe in addition to node and edge lists. It creates an instance of networkx graph which can be visualized for later use. Draw graph displays a matplotlib figure containing the graph object created in the previous method. Nodes and edges can be configured in many ways. (Possible improvement point. Different node, edge combinations can be tried.)\n",
    "\n",
    "There are two different graph objects. One is for visualization of the graph with a small number of data, and one is for the node embedding model to be fitted on.\n"
   ]
  },
  {
   "cell_type": "code",
   "execution_count": 3,
   "id": "90fef915",
   "metadata": {
    "execution": {
     "iopub.execute_input": "2021-09-24T23:35:39.149933Z",
     "iopub.status.busy": "2021-09-24T23:35:39.149061Z",
     "iopub.status.idle": "2021-09-24T23:35:39.152557Z",
     "shell.execute_reply": "2021-09-24T23:35:39.153028Z",
     "shell.execute_reply.started": "2021-09-24T23:19:13.019976Z"
    },
    "papermill": {
     "duration": 0.034173,
     "end_time": "2021-09-24T23:35:39.153209",
     "exception": false,
     "start_time": "2021-09-24T23:35:39.119036",
     "status": "completed"
    },
    "tags": []
   },
   "outputs": [],
   "source": [
    "# %%time\n",
    "# profile = ProfileReport(df_attrition, title='Attirition profiling')\n",
    "# profile.to_widgets()\n",
    "# alternative way of displaying the report\n",
    "# profile.to_notebook_iframe()"
   ]
  },
  {
   "cell_type": "code",
   "execution_count": 4,
   "id": "3ac51f1b",
   "metadata": {
    "execution": {
     "iopub.execute_input": "2021-09-24T23:35:39.210862Z",
     "iopub.status.busy": "2021-09-24T23:35:39.209856Z",
     "iopub.status.idle": "2021-09-24T23:35:39.229502Z",
     "shell.execute_reply": "2021-09-24T23:35:39.229982Z",
     "shell.execute_reply.started": "2021-09-24T23:19:13.025629Z"
    },
    "papermill": {
     "duration": 0.049602,
     "end_time": "2021-09-24T23:35:39.230147",
     "exception": false,
     "start_time": "2021-09-24T23:35:39.180545",
     "status": "completed"
    },
    "tags": []
   },
   "outputs": [
    {
     "data": {
      "text/html": [
       "<div>\n",
       "<style scoped>\n",
       "    .dataframe tbody tr th:only-of-type {\n",
       "        vertical-align: middle;\n",
       "    }\n",
       "\n",
       "    .dataframe tbody tr th {\n",
       "        vertical-align: top;\n",
       "    }\n",
       "\n",
       "    .dataframe thead th {\n",
       "        text-align: right;\n",
       "    }\n",
       "</style>\n",
       "<table border=\"1\" class=\"dataframe\">\n",
       "  <thead>\n",
       "    <tr style=\"text-align: right;\">\n",
       "      <th></th>\n",
       "      <th>EmployeeNumber</th>\n",
       "      <th>BusinessTravel</th>\n",
       "      <th>Gender</th>\n",
       "      <th>JobRole</th>\n",
       "      <th>MaritalStatus</th>\n",
       "      <th>OverTime</th>\n",
       "      <th>Attrition</th>\n",
       "    </tr>\n",
       "  </thead>\n",
       "  <tbody>\n",
       "    <tr>\n",
       "      <th>0</th>\n",
       "      <td>1</td>\n",
       "      <td>Travel_Rarely</td>\n",
       "      <td>Female</td>\n",
       "      <td>Sales Executive</td>\n",
       "      <td>Single</td>\n",
       "      <td>Yes</td>\n",
       "      <td>Yes</td>\n",
       "    </tr>\n",
       "    <tr>\n",
       "      <th>1</th>\n",
       "      <td>2</td>\n",
       "      <td>Travel_Frequently</td>\n",
       "      <td>Male</td>\n",
       "      <td>Research Scientist</td>\n",
       "      <td>Married</td>\n",
       "      <td>No</td>\n",
       "      <td>No</td>\n",
       "    </tr>\n",
       "    <tr>\n",
       "      <th>2</th>\n",
       "      <td>4</td>\n",
       "      <td>Travel_Rarely</td>\n",
       "      <td>Male</td>\n",
       "      <td>Laboratory Technician</td>\n",
       "      <td>Single</td>\n",
       "      <td>Yes</td>\n",
       "      <td>Yes</td>\n",
       "    </tr>\n",
       "    <tr>\n",
       "      <th>3</th>\n",
       "      <td>5</td>\n",
       "      <td>Travel_Frequently</td>\n",
       "      <td>Female</td>\n",
       "      <td>Research Scientist</td>\n",
       "      <td>Married</td>\n",
       "      <td>Yes</td>\n",
       "      <td>No</td>\n",
       "    </tr>\n",
       "    <tr>\n",
       "      <th>4</th>\n",
       "      <td>7</td>\n",
       "      <td>Travel_Rarely</td>\n",
       "      <td>Male</td>\n",
       "      <td>Laboratory Technician</td>\n",
       "      <td>Married</td>\n",
       "      <td>No</td>\n",
       "      <td>No</td>\n",
       "    </tr>\n",
       "    <tr>\n",
       "      <th>...</th>\n",
       "      <td>...</td>\n",
       "      <td>...</td>\n",
       "      <td>...</td>\n",
       "      <td>...</td>\n",
       "      <td>...</td>\n",
       "      <td>...</td>\n",
       "      <td>...</td>\n",
       "    </tr>\n",
       "    <tr>\n",
       "      <th>1465</th>\n",
       "      <td>2061</td>\n",
       "      <td>Travel_Frequently</td>\n",
       "      <td>Male</td>\n",
       "      <td>Laboratory Technician</td>\n",
       "      <td>Married</td>\n",
       "      <td>No</td>\n",
       "      <td>No</td>\n",
       "    </tr>\n",
       "    <tr>\n",
       "      <th>1466</th>\n",
       "      <td>2062</td>\n",
       "      <td>Travel_Rarely</td>\n",
       "      <td>Male</td>\n",
       "      <td>Healthcare Representative</td>\n",
       "      <td>Married</td>\n",
       "      <td>No</td>\n",
       "      <td>No</td>\n",
       "    </tr>\n",
       "    <tr>\n",
       "      <th>1467</th>\n",
       "      <td>2064</td>\n",
       "      <td>Travel_Rarely</td>\n",
       "      <td>Male</td>\n",
       "      <td>Manufacturing Director</td>\n",
       "      <td>Married</td>\n",
       "      <td>Yes</td>\n",
       "      <td>No</td>\n",
       "    </tr>\n",
       "    <tr>\n",
       "      <th>1468</th>\n",
       "      <td>2065</td>\n",
       "      <td>Travel_Frequently</td>\n",
       "      <td>Male</td>\n",
       "      <td>Sales Executive</td>\n",
       "      <td>Married</td>\n",
       "      <td>No</td>\n",
       "      <td>No</td>\n",
       "    </tr>\n",
       "    <tr>\n",
       "      <th>1469</th>\n",
       "      <td>2068</td>\n",
       "      <td>Travel_Rarely</td>\n",
       "      <td>Male</td>\n",
       "      <td>Laboratory Technician</td>\n",
       "      <td>Married</td>\n",
       "      <td>No</td>\n",
       "      <td>No</td>\n",
       "    </tr>\n",
       "  </tbody>\n",
       "</table>\n",
       "<p>1470 rows × 7 columns</p>\n",
       "</div>"
      ],
      "text/plain": [
       "      EmployeeNumber     BusinessTravel  Gender                    JobRole  \\\n",
       "0                  1      Travel_Rarely  Female            Sales Executive   \n",
       "1                  2  Travel_Frequently    Male         Research Scientist   \n",
       "2                  4      Travel_Rarely    Male      Laboratory Technician   \n",
       "3                  5  Travel_Frequently  Female         Research Scientist   \n",
       "4                  7      Travel_Rarely    Male      Laboratory Technician   \n",
       "...              ...                ...     ...                        ...   \n",
       "1465            2061  Travel_Frequently    Male      Laboratory Technician   \n",
       "1466            2062      Travel_Rarely    Male  Healthcare Representative   \n",
       "1467            2064      Travel_Rarely    Male     Manufacturing Director   \n",
       "1468            2065  Travel_Frequently    Male            Sales Executive   \n",
       "1469            2068      Travel_Rarely    Male      Laboratory Technician   \n",
       "\n",
       "     MaritalStatus OverTime Attrition  \n",
       "0           Single      Yes       Yes  \n",
       "1          Married       No        No  \n",
       "2           Single      Yes       Yes  \n",
       "3          Married      Yes        No  \n",
       "4          Married       No        No  \n",
       "...            ...      ...       ...  \n",
       "1465       Married       No        No  \n",
       "1466       Married       No        No  \n",
       "1467       Married      Yes        No  \n",
       "1468       Married       No        No  \n",
       "1469       Married       No        No  \n",
       "\n",
       "[1470 rows x 7 columns]"
      ]
     },
     "execution_count": 4,
     "metadata": {},
     "output_type": "execute_result"
    }
   ],
   "source": [
    "target_column = 'Attrition'\n",
    "selected_columns = ['EmployeeNumber', 'BusinessTravel', 'Gender', 'JobRole', \\\n",
    "                    'MaritalStatus', 'OverTime', 'Attrition']\n",
    "\n",
    "df_attrition = df_attrition.loc[:, selected_columns]\n",
    "df_attrition"
   ]
  },
  {
   "cell_type": "code",
   "execution_count": 5,
   "id": "881db442",
   "metadata": {
    "execution": {
     "iopub.execute_input": "2021-09-24T23:35:39.292419Z",
     "iopub.status.busy": "2021-09-24T23:35:39.286566Z",
     "iopub.status.idle": "2021-09-24T23:35:39.315761Z",
     "shell.execute_reply": "2021-09-24T23:35:39.315185Z",
     "shell.execute_reply.started": "2021-09-24T23:19:13.056090Z"
    },
    "papermill": {
     "duration": 0.059177,
     "end_time": "2021-09-24T23:35:39.315921",
     "exception": false,
     "start_time": "2021-09-24T23:35:39.256744",
     "status": "completed"
    },
    "tags": []
   },
   "outputs": [],
   "source": [
    "class GraphLoader:\n",
    "    def __init__(self):\n",
    "        self.graph = None\n",
    "        self.title = None\n",
    "        \n",
    "    def build_graph(self, \n",
    "                    dataframe: pd.DataFrame, \n",
    "                    columns: List, \n",
    "                    edge_list: List,\n",
    "                    verbose: bool = True,\n",
    "                    title: str = 'Unnamed'):\n",
    "        self.title = title\n",
    "        t0 = time()\n",
    "        self.graph = nx.Graph(name = self.title)\n",
    "\n",
    "        # Add Nodes to the graph.\n",
    "        for column in columns:\n",
    "            self.graph.add_nodes_from(dataframe[column].values, label=column)\n",
    "\n",
    "        # Add remaining columns as Node attributes. Optional\n",
    "        remaining = dataframe.columns.difference(columns)\n",
    "        for node, data in self.graph.nodes(data=True):\n",
    "            if data[\"label\"] == \"EmployeeNumber\":\n",
    "                self.graph.nodes[node][\"attributes\"] = dataframe.loc[dataframe[\"EmployeeNumber\"] == int(node), remaining].squeeze().to_dict()\n",
    "\n",
    "        # Add Edges.\n",
    "        for _, row in dataframe.loc[:, columns].iterrows():\n",
    "            for edge in edge_list:\n",
    "                self.graph.add_edge(row[edge[0]], row[edge[1]])\n",
    "        \n",
    "        if verbose:\n",
    "            print(f\"FINISHED in {np.round(time() - t0, 3)} seconds.\")\n",
    "            print(nx.info(self.graph))\n",
    "        \n",
    "        return self.graph\n",
    "\n",
    "    def draw_graph(self, graph: nx.Graph, node_colors: dict, node: str = None, radius: int = 1) -> None:\n",
    "        def assign_colors(graph: nx.Graph) -> List:\n",
    "            # Assign Colors to nodes\n",
    "            colors = []\n",
    "            for n, data in graph.nodes(data=True):\n",
    "                node = data[\"label\"]\n",
    "                colors.append(node_colors.get(node, \"black\"))\n",
    "            return colors\n",
    "\n",
    "        f = plt.figure(figsize = (20,12), facecolor=\"darkgray\")\n",
    "        ax = f.add_subplot()\n",
    "\n",
    "        if not node:    \n",
    "            plt.title(self.title)\n",
    "        else:\n",
    "            plt.title(f\"Ego Graph around the node {node}, (radius={radius})\")\n",
    "            graph = nx.ego_graph(graph, node, radius = radius)\n",
    "        \n",
    "        colors = assign_colors(graph)\n",
    "        nx.draw_networkx(graph, node_size = 800, node_color = colors, with_labels = True)\n",
    "        # Add an empty plot to set custom legends\n",
    "        from matplotlib.lines import Line2D\n",
    "        ax.scatter([],[])\n",
    "        legend_elements = [\n",
    "            Line2D([0], [0], marker='o', color='w', label='employee no', markerfacecolor = node_colors['EmployeeNumber'], markersize=15),\n",
    "            Line2D([0], [0], marker='o', color='w', label='travel', markerfacecolor = node_colors['BusinessTravel'], markersize=15),\n",
    "            Line2D([0], [0], marker='o', color='w', label='gender', markerfacecolor = node_colors['Gender'], markersize=15),\n",
    "            Line2D([0], [0], marker='o', color='w', label='job role', markerfacecolor = node_colors['JobRole'], markersize=15),\n",
    "            Line2D([0], [0], marker='o', color='w', label='marital status', markerfacecolor = node_colors['MaritalStatus'], markersize=15),\n",
    "            Line2D([0], [0], marker='o', color='w', label='overtime', markerfacecolor = node_colors['OverTime'], markersize=15),\n",
    "\n",
    "        ]\n",
    "        ax.legend(handles=legend_elements, loc='best')\n",
    "        plt.show()"
   ]
  },
  {
   "cell_type": "code",
   "execution_count": 6,
   "id": "2637f46a",
   "metadata": {
    "execution": {
     "iopub.execute_input": "2021-09-24T23:35:39.376236Z",
     "iopub.status.busy": "2021-09-24T23:35:39.375173Z",
     "iopub.status.idle": "2021-09-24T23:35:39.378459Z",
     "shell.execute_reply": "2021-09-24T23:35:39.377942Z",
     "shell.execute_reply.started": "2021-09-24T23:19:13.078831Z"
    },
    "papermill": {
     "duration": 0.035766,
     "end_time": "2021-09-24T23:35:39.378599",
     "exception": false,
     "start_time": "2021-09-24T23:35:39.342833",
     "status": "completed"
    },
    "tags": []
   },
   "outputs": [],
   "source": [
    "nodes = selected_columns[:-1] # Do not select Attrition as a feature node\n",
    "edges = [(\"EmployeeNumber\",\"BusinessTravel\"),\n",
    "         (\"EmployeeNumber\",\"Gender\"),\n",
    "         (\"EmployeeNumber\",\"JobRole\"),\n",
    "         (\"EmployeeNumber\",\"MaritalStatus\"),\n",
    "         (\"EmployeeNumber\",\"OverTime\")]\n",
    "\n",
    "node_colors = { # freestyle, update any color.\n",
    "    \"EmployeeNumber\": \"dodgerblue\", \n",
    "    \"BusinessTravel\":\"lightgreen\", \n",
    "    \"Gender\":\"tan\", \n",
    "    \"JobRole\":\"salmon\",\n",
    "    \"MaritalStatus\":\"darkcyan\",\n",
    "    \"OverTime\":\"lightblue\"\n",
    "}"
   ]
  },
  {
   "cell_type": "code",
   "execution_count": 7,
   "id": "3a72bff1",
   "metadata": {
    "execution": {
     "iopub.execute_input": "2021-09-24T23:35:39.447397Z",
     "iopub.status.busy": "2021-09-24T23:35:39.446687Z",
     "iopub.status.idle": "2021-09-24T23:35:39.883257Z",
     "shell.execute_reply": "2021-09-24T23:35:39.884103Z",
     "shell.execute_reply.started": "2021-09-24T23:19:13.097853Z"
    },
    "papermill": {
     "duration": 0.479324,
     "end_time": "2021-09-24T23:35:39.884381",
     "exception": false,
     "start_time": "2021-09-24T23:35:39.405057",
     "status": "completed"
    },
    "tags": []
   },
   "outputs": [
    {
     "name": "stdout",
     "output_type": "stream",
     "text": [
      "FINISHED in 0.011 seconds.\n",
      "Name: Employe Attrition graph with only 5 samples of data\n",
      "Type: Graph\n",
      "Number of nodes: 17\n",
      "Number of edges: 30\n",
      "Average degree:   3.5294\n"
     ]
    },
    {
     "data": {
      "image/png": "[encoded data removed]",
      "text/plain": [
       "<Figure size 1440x864 with 1 Axes>"
      ]
     },
     "metadata": {},
     "output_type": "display_data"
    }
   ],
   "source": [
    "graph_loader = GraphLoader()\n",
    "demo_graph = graph_loader.build_graph(\n",
    "            dataframe = df_attrition.loc[:5, selected_columns[:-1]],\n",
    "            columns = nodes, \n",
    "            edge_list = edges,\n",
    "            verbose = True,\n",
    "            title = 'Employe Attrition graph with only 5 samples of data'\n",
    "        )\n",
    "# graph_loader.draw_graph(demo_graph, node_colors, node = 5, radius = 2) # show only the nodes that are at a distance of 2 edges from the employee 5.\n",
    "graph_loader.draw_graph(demo_graph, node_colors) # Show the whole graph"
   ]
  },
  {
   "cell_type": "markdown",
   "id": "d92732c5",
   "metadata": {
    "execution": {
     "iopub.execute_input": "2021-09-24T21:48:17.032226Z",
     "iopub.status.busy": "2021-09-24T21:48:17.03174Z",
     "iopub.status.idle": "2021-09-24T21:48:17.044741Z",
     "shell.execute_reply": "2021-09-24T21:48:17.042991Z",
     "shell.execute_reply.started": "2021-09-24T21:48:17.032178Z"
    },
    "papermill": {
     "duration": 0.032716,
     "end_time": "2021-09-24T23:35:39.953289",
     "exception": false,
     "start_time": "2021-09-24T23:35:39.920573",
     "status": "completed"
    },
    "tags": []
   },
   "source": [
    "\n",
    "When we look at the graph info below, we can see that there are 1489 nodes, 7350 edges. An every node has approximately 10 neighbors on average. Node number is different than the row number in the data since we are counting each unique value in all the feature columns, not just employee's but their attributes as well. We are drawing edges only between the employee and their attributes.\n"
   ]
  },
  {
   "cell_type": "code",
   "execution_count": 8,
   "id": "7221479d",
   "metadata": {
    "execution": {
     "iopub.execute_input": "2021-09-24T23:35:40.031420Z",
     "iopub.status.busy": "2021-09-24T23:35:40.030295Z",
     "iopub.status.idle": "2021-09-24T23:35:41.422333Z",
     "shell.execute_reply": "2021-09-24T23:35:41.422829Z",
     "shell.execute_reply.started": "2021-09-24T23:19:13.499756Z"
    },
    "papermill": {
     "duration": 1.431126,
     "end_time": "2021-09-24T23:35:41.423024",
     "exception": false,
     "start_time": "2021-09-24T23:35:39.991898",
     "status": "completed"
    },
    "tags": []
   },
   "outputs": [
    {
     "name": "stdout",
     "output_type": "stream",
     "text": [
      "FINISHED in 1.384 seconds.\n",
      "Name: Employe Attrition Graph\n",
      "Type: Graph\n",
      "Number of nodes: 1489\n",
      "Number of edges: 7350\n",
      "Average degree:   9.8724\n"
     ]
    }
   ],
   "source": [
    "graph = graph_loader.build_graph(\n",
    "            dataframe = df_attrition.loc[:, selected_columns[:-1]],\n",
    "            columns = nodes, \n",
    "            edge_list = edges,\n",
    "            verbose = True,\n",
    "            title = 'Employe Attrition Graph'\n",
    ")"
   ]
  },
  {
   "cell_type": "markdown",
   "id": "f1719e7e",
   "metadata": {
    "papermill": {
     "duration": 0.032481,
     "end_time": "2021-09-24T23:35:41.487631",
     "exception": false,
     "start_time": "2021-09-24T23:35:41.455150",
     "status": "completed"
    },
    "tags": []
   },
   "source": [
    "# **Third Part - Node Embeddings**\n",
    "\n",
    "I will give a brief(again no irony) information on the node2vec algorithm then move onto fitting the embedding model.\n",
    "\n",
    "**CAUTION**: If you are not really into definitions/theory behind the model and/or want to see only the implementation, skip this section right away.\n",
    "\n",
    "(Pisst! are you still here, yes you, then let's move on)\n",
    "\n",
    "For each node in the graph network, vector embeddings were obtained by using the complete graph. Starting from each node in the graph, algorithm moves over one of the adjacent edges to walk towards to a node based on a precomputed probability distribution. The number of steps that needs to be taken is a hyper parameter. After this process is repeated in a predefined number of times, a list of Random Walks is obtained for each node as below. These lists are fed into the word representation model along with the size of the embedding vectors. Finally, the vectors in the Embeddings list are obtained by giving this random walks' list into the Word2Vec model from gensim. \n",
    "\n",
    "Random Walks = {   \n",
    "\n",
    "\"Node1\": [ [\"Node1\", \"Node4\", \"Node55\", . . .],   \n",
    "\n",
    "        [\"Node1\", \"Node33\", \"Node77\"], ...],  \n",
    "\n",
    "\"Node2\": [ [“Node2”, “Node17”, “Node88”, . . .],   \n",
    "\n",
    "         [“Node2”, “Node7”, “Node79”], ...], ...   \n",
    "\n",
    "} \n",
    "\n",
    "\n",
    "Embeddings = {   \n",
    "\n",
    " \"Node1\": [0.121, -0.215, 1.564, ...],   \n",
    "\n",
    " \"Node2\": [0.151, 0.251, -0.516, ...],   \n",
    "\n",
    " ...   \n",
    "\n",
    "}   \n",
    "\n",
    "\n",
    "The two parameters that are effective in probability calculations required before Random Walks are p and q. The type of graph (Directed/Undirected) determines which parameter will be used.  \n",
    "\n",
    "P: The parameter that controls the probability of immediate return to the node walked over in the last step. \n",
    "\n",
    "\n",
    "Q: On directed graph networks, where the edges allow moving either inward or outward, q is the parameter that determines which type of edge has the higher probability to be selected.\n",
    "\n",
    "(This is my definition of brief. I am assuming you did not close the notebook so far. maybe you will soon.)\n"
   ]
  },
  {
   "cell_type": "code",
   "execution_count": 9,
   "id": "9c0fde54",
   "metadata": {
    "execution": {
     "iopub.execute_input": "2021-09-24T23:35:41.555073Z",
     "iopub.status.busy": "2021-09-24T23:35:41.554199Z",
     "iopub.status.idle": "2021-09-24T23:35:41.569683Z",
     "shell.execute_reply": "2021-09-24T23:35:41.569077Z",
     "shell.execute_reply.started": "2021-09-24T23:28:59.054184Z"
    },
    "papermill": {
     "duration": 0.050237,
     "end_time": "2021-09-24T23:35:41.569827",
     "exception": false,
     "start_time": "2021-09-24T23:35:41.519590",
     "status": "completed"
    },
    "tags": []
   },
   "outputs": [],
   "source": [
    "CWD = Path().cwd()\n",
    "EMBEDDINGS_DIR = CWD / 'embeddings'\n",
    "EMBEDDINGS_DIR.mkdir(parents=True, exist_ok=True)\n",
    "SEED = 12\n",
    "\n",
    "class VectorizerConfig:\n",
    "    dimensions = 64\n",
    "    walk_length = 30\n",
    "    num_walks = 50\n",
    "    window = 10\n",
    "    min_count = 1\n",
    "    batch_words = 4\n",
    "\n",
    "class NodeEmbedding:\n",
    "\n",
    "    def __init__(self) -> None:\n",
    "        self.vectorizer = None\n",
    "        self.model = None\n",
    "        \n",
    "    def generate_random_walks(self, graph: nx.Graph, **params) -> None:\n",
    "        self.vectorizer = Node2Vec(graph, **params)\n",
    "        # return self.vectorizer\n",
    "\n",
    "    def fit(self, **params) -> gensim.models.Word2Vec:\n",
    "        if self.vectorizer is None:\n",
    "            raise Exception(\"No random walks. Generate Random walks by calling generate_random_walks() method first.\")\n",
    "        self.model = self.vectorizer.fit(**params)\n",
    "        \n",
    "        return self.model\n",
    "\n",
    "    def save_model(self, model: gensim.models.Word2Vec, save_to: Path = EMBEDDINGS_DIR, prefix: str = None) -> None:\n",
    "        d = VectorizerConfig.dimensions\n",
    "        w = VectorizerConfig.walk_length\n",
    "        n = VectorizerConfig.num_walks\n",
    "\n",
    "        embeddings_filename = f\"{prefix}_embeddings_{d}_{w}_{n}.txt\"\n",
    "        model_filename = f\"{prefix}_model_{d}_{w}_{n}.pkl\"\n",
    "        # Save only the embeddings in a txt file.\n",
    "        self.model.wv.save_word2vec_format(str(EMBEDDINGS_DIR/embeddings_filename))\n",
    "        # Save the entire model.\n",
    "        self.model.save(str(EMBEDDINGS_DIR/model_filename))\n",
    "        print(f\"Model and embeddings saved to: {str(EMBEDDINGS_DIR/model_filename)}\")\n",
    "\n",
    "    def load_model(self, model_filename: str = None, load_from: Path = EMBEDDINGS_DIR) -> gensim.models.Word2Vec:\n",
    "        if Path(EMBEDDINGS_DIR / model_filename).exists():\n",
    "            print(\"Loaded Model: \", model_filename)\n",
    "            with Path(EMBEDDINGS_DIR / model_filename).open(mode=\"r+b\") as file:\n",
    "                self.model = pickle.load(file)\n",
    "        else:\n",
    "            raise FileNotFoundError(f\"NOT found: {EMBEDDINGS_DIR / model_filename}\")\n",
    "        \n",
    "        return self.model\n"
   ]
  },
  {
   "cell_type": "code",
   "execution_count": 10,
   "id": "d8712064",
   "metadata": {
    "execution": {
     "iopub.execute_input": "2021-09-24T23:35:41.638082Z",
     "iopub.status.busy": "2021-09-24T23:35:41.637428Z",
     "iopub.status.idle": "2021-09-24T23:35:41.639039Z",
     "shell.execute_reply": "2021-09-24T23:35:41.639529Z",
     "shell.execute_reply.started": "2021-09-24T23:19:14.906168Z"
    },
    "papermill": {
     "duration": 0.03809,
     "end_time": "2021-09-24T23:35:41.639699",
     "exception": false,
     "start_time": "2021-09-24T23:35:41.601609",
     "status": "completed"
    },
    "tags": []
   },
   "outputs": [],
   "source": [
    "import multiprocessing\n",
    "\n",
    "embedder = NodeEmbedding()"
   ]
  },
  {
   "cell_type": "code",
   "execution_count": 11,
   "id": "a8be8721",
   "metadata": {
    "execution": {
     "iopub.execute_input": "2021-09-24T23:35:41.705638Z",
     "iopub.status.busy": "2021-09-24T23:35:41.704929Z",
     "iopub.status.idle": "2021-09-24T23:38:13.280613Z",
     "shell.execute_reply": "2021-09-24T23:38:13.279783Z",
     "shell.execute_reply.started": "2021-09-24T23:19:14.922480Z"
    },
    "papermill": {
     "duration": 151.609899,
     "end_time": "2021-09-24T23:38:13.280803",
     "exception": false,
     "start_time": "2021-09-24T23:35:41.670904",
     "status": "completed"
    },
    "tags": []
   },
   "outputs": [
    {
     "data": {
      "application/vnd.jupyter.widget-view+json": {
       "model_id": "10a91b38670e4ee9843173819b67c460",
       "version_major": 2,
       "version_minor": 0
      },
      "text/plain": [
       "Computing transition probabilities:   0%|          | 0/1489 [00:00<?, ?it/s]"
      ]
     },
     "metadata": {},
     "output_type": "display_data"
    },
    {
     "name": "stderr",
     "output_type": "stream",
     "text": [
      "Generating walks (CPU: 2): 100%|██████████| 13/13 [01:48<00:00,  8.34s/it]"
     ]
    }
   ],
   "source": [
    "embedder.generate_random_walks(\n",
    "    graph,\n",
    "    dimensions = VectorizerConfig.dimensions,\n",
    "    walk_length = VectorizerConfig.walk_length,\n",
    "    num_walks = VectorizerConfig.num_walks,\n",
    "    workers = multiprocessing.cpu_count()\n",
    ")"
   ]
  },
  {
   "cell_type": "code",
   "execution_count": 12,
   "id": "7d02b1ff",
   "metadata": {
    "execution": {
     "iopub.execute_input": "2021-09-24T23:38:13.379784Z",
     "iopub.status.busy": "2021-09-24T23:38:13.379053Z",
     "iopub.status.idle": "2021-09-24T23:39:57.608936Z",
     "shell.execute_reply": "2021-09-24T23:39:57.609709Z",
     "shell.execute_reply.started": "2021-09-24T23:21:42.779275Z"
    },
    "papermill": {
     "duration": 104.281363,
     "end_time": "2021-09-24T23:39:57.609960",
     "exception": false,
     "start_time": "2021-09-24T23:38:13.328597",
     "status": "completed"
    },
    "tags": []
   },
   "outputs": [
    {
     "name": "stdout",
     "output_type": "stream",
     "text": [
      "CPU times: user 2min 16s, sys: 26.1 s, total: 2min 42s\n",
      "Wall time: 1min 44s\n"
     ]
    }
   ],
   "source": [
    "%%time\n",
    "model = embedder.fit(\n",
    "    window = VectorizerConfig.window,\n",
    "    min_count = VectorizerConfig.min_count,\n",
    "    batch_words = VectorizerConfig.batch_words\n",
    ")"
   ]
  },
  {
   "cell_type": "code",
   "execution_count": 13,
   "id": "e9b6fd6c",
   "metadata": {
    "execution": {
     "iopub.execute_input": "2021-09-24T23:39:57.715258Z",
     "iopub.status.busy": "2021-09-24T23:39:57.714522Z",
     "iopub.status.idle": "2021-09-24T23:39:57.811179Z",
     "shell.execute_reply": "2021-09-24T23:39:57.810618Z",
     "shell.execute_reply.started": "2021-09-24T23:23:23.484748Z"
    },
    "papermill": {
     "duration": 0.151993,
     "end_time": "2021-09-24T23:39:57.811326",
     "exception": false,
     "start_time": "2021-09-24T23:39:57.659333",
     "status": "completed"
    },
    "tags": []
   },
   "outputs": [
    {
     "name": "stdout",
     "output_type": "stream",
     "text": [
      "Model and embeddings saved to: /kaggle/working/embeddings/attrition_model_64_30_50.pkl\n"
     ]
    }
   ],
   "source": [
    "embedder.save_model(model, save_to = EMBEDDINGS_DIR, prefix = \"attrition\")"
   ]
  },
  {
   "cell_type": "code",
   "execution_count": 14,
   "id": "061cdf98",
   "metadata": {
    "execution": {
     "iopub.execute_input": "2021-09-24T23:39:57.914792Z",
     "iopub.status.busy": "2021-09-24T23:39:57.914086Z",
     "iopub.status.idle": "2021-09-24T23:39:57.920082Z",
     "shell.execute_reply": "2021-09-24T23:39:57.919538Z",
     "shell.execute_reply.started": "2021-09-24T23:23:23.594517Z"
    },
    "papermill": {
     "duration": 0.059119,
     "end_time": "2021-09-24T23:39:57.920228",
     "exception": false,
     "start_time": "2021-09-24T23:39:57.861109",
     "status": "completed"
    },
    "tags": []
   },
   "outputs": [
    {
     "name": "stdout",
     "output_type": "stream",
     "text": [
      "Loaded Model:  attrition_model_64_30_50.pkl\n"
     ]
    }
   ],
   "source": [
    "model2 = embedder.load_model(\"attrition_model_64_30_50.pkl\", load_from = EMBEDDINGS_DIR)"
   ]
  },
  {
   "cell_type": "code",
   "execution_count": 15,
   "id": "c860e7bc",
   "metadata": {
    "execution": {
     "iopub.execute_input": "2021-09-24T23:39:58.023874Z",
     "iopub.status.busy": "2021-09-24T23:39:58.023014Z",
     "iopub.status.idle": "2021-09-24T23:39:58.029712Z",
     "shell.execute_reply": "2021-09-24T23:39:58.029120Z",
     "shell.execute_reply.started": "2021-09-24T23:23:23.605333Z"
    },
    "papermill": {
     "duration": 0.060392,
     "end_time": "2021-09-24T23:39:58.029876",
     "exception": false,
     "start_time": "2021-09-24T23:39:57.969484",
     "status": "completed"
    },
    "tags": []
   },
   "outputs": [],
   "source": [
    "with open(EMBEDDINGS_DIR / 'attrition_embeddings_64_30_50.txt', 'r') as embeddings_file:\n",
    "    embeddings = embeddings_file.readlines()"
   ]
  },
  {
   "cell_type": "markdown",
   "id": "2d6c7f69",
   "metadata": {
    "papermill": {
     "duration": 0.04859,
     "end_time": "2021-09-24T23:39:58.128508",
     "exception": false,
     "start_time": "2021-09-24T23:39:58.079918",
     "status": "completed"
    },
    "tags": []
   },
   "source": [
    "Embeddings were written to a txt file with the format:\n",
    "\n",
    "[\n",
    "\n",
    "node_count vector_dimension,\n",
    "\n",
    "first_node_name value1_1 value1_2 ... value1_64\n",
    "\n",
    "second_node_name value2_1 value2_2 ... value2_64\n",
    "\n",
    "...\n",
    "\n",
    "]\n",
    "\n",
    "So the first element in the list is just information about the content hence not required. Also, we will only be taking the vectors of employee's not the vectors for their attributes.\n",
    "    "
   ]
  },
  {
   "cell_type": "code",
   "execution_count": 16,
   "id": "332eaa9a",
   "metadata": {
    "execution": {
     "iopub.execute_input": "2021-09-24T23:39:58.232708Z",
     "iopub.status.busy": "2021-09-24T23:39:58.231901Z",
     "iopub.status.idle": "2021-09-24T23:39:58.235754Z",
     "shell.execute_reply": "2021-09-24T23:39:58.235121Z",
     "shell.execute_reply.started": "2021-09-24T23:23:23.620002Z"
    },
    "papermill": {
     "duration": 0.058387,
     "end_time": "2021-09-24T23:39:58.235890",
     "exception": false,
     "start_time": "2021-09-24T23:39:58.177503",
     "status": "completed"
    },
    "tags": []
   },
   "outputs": [
    {
     "data": {
      "text/plain": [
       "['1489 64\\n',\n",
       " 'No 0.12890157 0.02013395 0.24558993 -0.08271182 0.17435177 0.04770488 0.25083846 -0.024477156 0.13035327 0.05347328 0.114962675 0.012300068 -0.06749841 0.07574861 -0.10533206 -0.08722117 -0.03478902 0.0078043845 0.0041021593 0.103056975 0.3535569 0.114113845 0.175186 -0.098535284 -0.026019085 0.34062424 0.0023480426 0.19878797 -0.017179897 -0.119641535 0.013128106 -0.040090468 0.083980024 -0.3233608 0.024256242 0.18101308 -0.18171757 0.067335285 0.016174514 -0.07539347 -0.054705933 0.25571007 -0.011450646 -0.2747531 0.15653197 0.026137216 -0.18424922 -0.21029568 -0.06900918 0.020644624 -0.18597409 -0.00406084 0.12633276 0.1347335 0.3635615 -0.08382976 -0.024869485 -0.19835337 -0.032561973 -0.13368921 -0.06192756 0.22975823 0.040973153 -0.15114745\\n',\n",
       " 'Travel_Rarely -0.07389817 0.2294334 0.08523163 0.10201571 -0.015322167 -0.0750977 0.0029217028 0.24103361 -0.05968351 -0.009978623 0.28990743 0.2570256 0.037125066 -0.00010641756 0.07672262 -0.037678685 -0.018652432 0.34357643 0.04141861 0.15776443 0.024332419 0.1084328 0.20230961 -0.15254186 -0.055517953 0.29940984 0.15339907 0.2138959 -0.01312717 -0.1809559 0.1301495 0.0063805217 0.0495218 -0.34326768 0.07268491 0.1283244 -0.21075526 -0.07024225 0.010253426 -0.12814452 -0.006390344 0.27685454 0.11989303 -0.1689561 -0.11919722 0.02162806 -0.08230478 -0.32148263 0.011864931 -0.046873596 0.12805149 0.1317473 0.13648456 0.07942613 0.07072667 0.10672665 -0.22144057 -0.16832945 -0.13249305 -0.0128092365 -0.2567772 0.07847394 -0.15362811 -0.03157332\\n']"
      ]
     },
     "execution_count": 16,
     "metadata": {},
     "output_type": "execute_result"
    }
   ],
   "source": [
    "embeddings[:3]"
   ]
  },
  {
   "cell_type": "code",
   "execution_count": 17,
   "id": "5dc29dcf",
   "metadata": {
    "execution": {
     "iopub.execute_input": "2021-09-24T23:39:58.345911Z",
     "iopub.status.busy": "2021-09-24T23:39:58.345204Z",
     "iopub.status.idle": "2021-09-24T23:39:58.349943Z",
     "shell.execute_reply": "2021-09-24T23:39:58.349399Z",
     "shell.execute_reply.started": "2021-09-24T23:23:23.633060Z"
    },
    "papermill": {
     "duration": 0.065344,
     "end_time": "2021-09-24T23:39:58.350087",
     "exception": false,
     "start_time": "2021-09-24T23:39:58.284743",
     "status": "completed"
    },
    "tags": []
   },
   "outputs": [],
   "source": [
    "# This function is requred since embeddings are out of order with the target. They were not matched correctly.\n",
    "def align_features_and_target(df: pd.DataFrame, embeddings_file: str = None):\n",
    "    vectors = []\n",
    "    with Path(EMBEDDINGS_DIR / embeddings_file).open(mode=\"r\") as file:\n",
    "        results = file.readlines()\n",
    "        for person in df[\"EmployeeNumber\"].values:\n",
    "            for line in results[1:]:\n",
    "                if line.split()[0] == str(person):\n",
    "                    vectors.append(line.split()[1:])\n",
    "    \n",
    "    return np.array(vectors).astype(np.float64)"
   ]
  },
  {
   "cell_type": "code",
   "execution_count": 18,
   "id": "9af0df83",
   "metadata": {
    "execution": {
     "iopub.execute_input": "2021-09-24T23:39:58.465017Z",
     "iopub.status.busy": "2021-09-24T23:39:58.459394Z",
     "iopub.status.idle": "2021-09-24T23:40:11.057165Z",
     "shell.execute_reply": "2021-09-24T23:40:11.056441Z",
     "shell.execute_reply.started": "2021-09-24T23:23:23.649195Z"
    },
    "papermill": {
     "duration": 12.658271,
     "end_time": "2021-09-24T23:40:11.057335",
     "exception": false,
     "start_time": "2021-09-24T23:39:58.399064",
     "status": "completed"
    },
    "tags": []
   },
   "outputs": [
    {
     "name": "stdout",
     "output_type": "stream",
     "text": [
      "CPU times: user 12.1 s, sys: 524 ms, total: 12.6 s\n",
      "Wall time: 12.6 s\n"
     ]
    }
   ],
   "source": [
    "%%time\n",
    "embeddings_filename = \"attrition_embeddings_64_30_50.txt\"\n",
    "feature_vectors = align_features_and_target(df_attrition, embeddings_file = embeddings_filename)"
   ]
  },
  {
   "cell_type": "code",
   "execution_count": 19,
   "id": "d66b7f85",
   "metadata": {
    "execution": {
     "iopub.execute_input": "2021-09-24T23:40:11.162693Z",
     "iopub.status.busy": "2021-09-24T23:40:11.161899Z",
     "iopub.status.idle": "2021-09-24T23:40:11.165018Z",
     "shell.execute_reply": "2021-09-24T23:40:11.165515Z",
     "shell.execute_reply.started": "2021-09-24T23:23:36.064455Z"
    },
    "papermill": {
     "duration": 0.059119,
     "end_time": "2021-09-24T23:40:11.165685",
     "exception": false,
     "start_time": "2021-09-24T23:40:11.106566",
     "status": "completed"
    },
    "tags": []
   },
   "outputs": [
    {
     "data": {
      "text/plain": [
       "(1470, 64)"
      ]
     },
     "execution_count": 19,
     "metadata": {},
     "output_type": "execute_result"
    }
   ],
   "source": [
    "feature_vectors.shape"
   ]
  },
  {
   "cell_type": "code",
   "execution_count": 20,
   "id": "f4662ea5",
   "metadata": {
    "execution": {
     "iopub.execute_input": "2021-09-24T23:40:11.272095Z",
     "iopub.status.busy": "2021-09-24T23:40:11.267818Z",
     "iopub.status.idle": "2021-09-24T23:40:11.275877Z",
     "shell.execute_reply": "2021-09-24T23:40:11.275330Z",
     "shell.execute_reply.started": "2021-09-24T23:23:36.072176Z"
    },
    "papermill": {
     "duration": 0.06088,
     "end_time": "2021-09-24T23:40:11.276016",
     "exception": false,
     "start_time": "2021-09-24T23:40:11.215136",
     "status": "completed"
    },
    "tags": []
   },
   "outputs": [
    {
     "data": {
      "text/plain": [
       "(1470,)"
      ]
     },
     "execution_count": 20,
     "metadata": {},
     "output_type": "execute_result"
    }
   ],
   "source": [
    "node_targets = np.array(list(map(lambda label: 1 if label == \"Yes\" else 0, df_attrition[\"Attrition\"])))\n",
    "# node_targets = df_attrition_encoded['Attrition'].values\n",
    "node_targets.shape\n"
   ]
  },
  {
   "cell_type": "markdown",
   "id": "2fbb77a1",
   "metadata": {
    "papermill": {
     "duration": 0.049977,
     "end_time": "2021-09-24T23:40:11.376854",
     "exception": false,
     "start_time": "2021-09-24T23:40:11.326877",
     "status": "completed"
    },
    "tags": []
   },
   "source": [
    "# **Fourth Part - Training the Models on Node Vectors**\n",
    "\n",
    "We will first split the vectors into train and test sets. We will try 4 different classifier model from scikit-learn on the train sets then evaluate on the test sets. (Possible improvement point. Oversampling can be tried since the data is unbalanced.)"
   ]
  },
  {
   "cell_type": "code",
   "execution_count": 21,
   "id": "79760f21",
   "metadata": {
    "execution": {
     "iopub.execute_input": "2021-09-24T23:40:11.488994Z",
     "iopub.status.busy": "2021-09-24T23:40:11.488224Z",
     "iopub.status.idle": "2021-09-24T23:40:14.291602Z",
     "shell.execute_reply": "2021-09-24T23:40:14.291042Z",
     "shell.execute_reply.started": "2021-09-24T23:23:36.087136Z"
    },
    "papermill": {
     "duration": 2.864668,
     "end_time": "2021-09-24T23:40:14.291757",
     "exception": false,
     "start_time": "2021-09-24T23:40:11.427089",
     "status": "completed"
    },
    "tags": []
   },
   "outputs": [
    {
     "name": "stdout",
     "output_type": "stream",
     "text": [
      "Original target value counts: Counter({0: 1233, 1: 237})\n",
      "Train vectors shape:  (1470, 64)\n",
      "\n",
      "<------------- MODEL: LogisticReg ----------->\n",
      "              precision    recall  f1-score   support\n",
      "\n",
      "           0       0.86      0.96      0.91       309\n",
      "           1       0.48      0.19      0.27        59\n",
      "\n",
      "    accuracy                           0.84       368\n",
      "   macro avg       0.67      0.57      0.59       368\n",
      "weighted avg       0.80      0.84      0.81       368\n",
      "\n",
      "<------------- END ----------->\n",
      "\n",
      "\n",
      "<------------- MODEL: SVC ----------->\n",
      "              precision    recall  f1-score   support\n",
      "\n",
      "           0       0.85      0.99      0.92       309\n",
      "           1       0.67      0.07      0.12        59\n",
      "\n",
      "    accuracy                           0.85       368\n",
      "   macro avg       0.76      0.53      0.52       368\n",
      "weighted avg       0.82      0.85      0.79       368\n",
      "\n",
      "<------------- END ----------->\n",
      "\n",
      "\n",
      "<------------- MODEL: GBC ----------->\n",
      "              precision    recall  f1-score   support\n",
      "\n",
      "           0       0.86      0.96      0.91       309\n",
      "           1       0.48      0.17      0.25        59\n",
      "\n",
      "    accuracy                           0.84       368\n",
      "   macro avg       0.67      0.57      0.58       368\n",
      "weighted avg       0.80      0.84      0.80       368\n",
      "\n",
      "<------------- END ----------->\n",
      "\n",
      "\n",
      "<------------- MODEL: kNN ----------->\n",
      "              precision    recall  f1-score   support\n",
      "\n",
      "           0       0.87      0.93      0.90       309\n",
      "           1       0.42      0.25      0.32        59\n",
      "\n",
      "    accuracy                           0.82       368\n",
      "   macro avg       0.64      0.59      0.61       368\n",
      "weighted avg       0.80      0.82      0.81       368\n",
      "\n",
      "<------------- END ----------->\n",
      "\n"
     ]
    }
   ],
   "source": [
    "from collections import Counter\n",
    "\n",
    "from sklearn.linear_model import LogisticRegression\n",
    "from sklearn.svm import SVC\n",
    "from sklearn.neighbors import KNeighborsClassifier\n",
    "from sklearn.ensemble import GradientBoostingClassifier\n",
    "\n",
    "from sklearn.model_selection import train_test_split\n",
    "from sklearn.metrics import classification_report\n",
    "\n",
    "print(f'Original target value counts: {Counter(node_targets)}')\n",
    "print(f'Train vectors shape: ', feature_vectors.shape)\n",
    "\n",
    "x_train, x_test, y_train, y_test = train_test_split(\n",
    "    feature_vectors, \n",
    "    node_targets, \n",
    "    test_size = 0.25,\n",
    "    random_state = 12, \n",
    "    stratify = node_targets\n",
    ")\n",
    "\n",
    "classifiers = {\n",
    "        'LogisticReg': LogisticRegression(), \n",
    "        'SVC': SVC(), \n",
    "        'GBC': GradientBoostingClassifier(),\n",
    "        'kNN': KNeighborsClassifier()\n",
    "}\n",
    "\n",
    "scores = dict()\n",
    "for name, classifier in classifiers.items():\n",
    "        print(f'\\n<------------- MODEL: {name} ----------->')\n",
    "        classifier.fit(x_train, y_train)\n",
    "        print(classification_report(y_test, classifier.predict(x_test), zero_division = 0))\n",
    "        print(f'<------------- END ----------->\\n')\n"
   ]
  },
  {
   "cell_type": "markdown",
   "id": "5d03d891",
   "metadata": {
    "papermill": {
     "duration": 0.05088,
     "end_time": "2021-09-24T23:40:14.393956",
     "exception": false,
     "start_time": "2021-09-24T23:40:14.343076",
     "status": "completed"
    },
    "tags": []
   },
   "source": [
    "# **Conclusion**\n",
    "\n",
    "(You still reading? huh!)\n",
    "\n",
    "From the classification report, we can say that model performs poorly on the positive class but the overall results are not that horrible i could say. And as I mentioned in the summary, main point was to showcase the use of node embeddings. We saw how to create a graph with networkx configure it for visualization purposes. Then, we fed this graph into the node2vec model and get back a vector for every node in the graph. Even though we used those vectors in classification, we could use them in any other machine learning task such as regression, clustering etc. So, We saw that we could also use node embeddings in place of the onehot vectors or we could make a pipeline that uses these two methods together for further work.\n",
    "\n",
    "These were all I wanted to say. If you have any questions feel free to ask.\n",
    "\n",
    "### **Thanks for reading**\n"
   ]
  }
 ],
 "metadata": {
  "kernelspec": {
   "display_name": "Python 3",
   "language": "python",
   "name": "python3"
  },
  "language_info": {
   "codemirror_mode": {
    "name": "ipython",
    "version": 3
   },
   "file_extension": ".py",
   "mimetype": "text/x-python",
   "name": "python",
   "nbconvert_exporter": "python",
   "pygments_lexer": "ipython3",
   "version": "3.7.10"
  },
  "papermill": {
   "default_parameters": {},
   "duration": 300.922702,
   "end_time": "2021-09-24T23:40:15.855052",
   "environment_variables": {},
   "exception": null,
   "input_path": "__notebook__.ipynb",
   "output_path": "__notebook__.ipynb",
   "parameters": {},
   "start_time": "2021-09-24T23:35:14.932350",
   "version": "2.3.3"
  },
  "widgets": {
   "application/vnd.jupyter.widget-state+json": {
    "state": {
     "031fb3f0b06a43a8bb81f13104eaf2c3": {
      "model_module": "@jupyter-widgets/controls",
      "model_module_version": "1.5.0",
      "model_name": "DescriptionStyleModel",
      "state": {
       "_model_module": "@jupyter-widgets/controls",
       "_model_module_version": "1.5.0",
       "_model_name": "DescriptionStyleModel",
       "_view_count": null,
       "_view_module": "@jupyter-widgets/base",
       "_view_module_version": "1.2.0",
       "_view_name": "StyleView",
       "description_width": ""
      }
     },
     "0bfa7611bc85423289225c6a0ad31912": {
      "model_module": "@jupyter-widgets/base",
      "model_module_version": "1.2.0",
      "model_name": "LayoutModel",
      "state": {
       "_model_module": "@jupyter-widgets/base",
       "_model_module_version": "1.2.0",
       "_model_name": "LayoutModel",
       "_view_count": null,
       "_view_module": "@jupyter-widgets/base",
       "_view_module_version": "1.2.0",
       "_view_name": "LayoutView",
       "align_content": null,
       "align_items": null,
       "align_self": null,
       "border": null,
       "bottom": null,
       "display": null,
       "flex": null,
       "flex_flow": null,
       "grid_area": null,
       "grid_auto_columns": null,
       "grid_auto_flow": null,
       "grid_auto_rows": null,
       "grid_column": null,
       "grid_gap": null,
       "grid_row": null,
       "grid_template_areas": null,
       "grid_template_columns": null,
       "grid_template_rows": null,
       "height": null,
       "justify_content": null,
       "justify_items": null,
       "left": null,
       "margin": null,
       "max_height": null,
       "max_width": null,
       "min_height": null,
       "min_width": null,
       "object_fit": null,
       "object_position": null,
       "order": null,
       "overflow": null,
       "overflow_x": null,
       "overflow_y": null,
       "padding": null,
       "right": null,
       "top": null,
       "visibility": null,
       "width": null
      }
     },
     "10a91b38670e4ee9843173819b67c460": {
      "model_module": "@jupyter-widgets/controls",
      "model_module_version": "1.5.0",
      "model_name": "HBoxModel",
      "state": {
       "_dom_classes": [],
       "_model_module": "@jupyter-widgets/controls",
       "_model_module_version": "1.5.0",
       "_model_name": "HBoxModel",
       "_view_count": null,
       "_view_module": "@jupyter-widgets/controls",
       "_view_module_version": "1.5.0",
       "_view_name": "HBoxView",
       "box_style": "",
       "children": [
        "IPY_MODEL_15e3181421c14aa79f2d349cc0c01c73",
        "IPY_MODEL_152f61522b124d0385e6559b0c05bdba",
        "IPY_MODEL_2a8a08e8a12c45dfb83fd86329ec499d"
       ],
       "layout": "IPY_MODEL_c136336df8264450a0152ecbeeab5009"
      }
     },
     "152f61522b124d0385e6559b0c05bdba": {
      "model_module": "@jupyter-widgets/controls",
      "model_module_version": "1.5.0",
      "model_name": "FloatProgressModel",
      "state": {
       "_dom_classes": [],
       "_model_module": "@jupyter-widgets/controls",
       "_model_module_version": "1.5.0",
       "_model_name": "FloatProgressModel",
       "_view_count": null,
       "_view_module": "@jupyter-widgets/controls",
       "_view_module_version": "1.5.0",
       "_view_name": "ProgressView",
       "bar_style": "success",
       "description": "",
       "description_tooltip": null,
       "layout": "IPY_MODEL_bd681cba411241d2a6cf72b948d4e8a1",
       "max": 1489.0,
       "min": 0.0,
       "orientation": "horizontal",
       "style": "IPY_MODEL_6e4ebe6e62fa4411bb2c7c343b29db59",
       "value": 1489.0
      }
     },
     "15e3181421c14aa79f2d349cc0c01c73": {
      "model_module": "@jupyter-widgets/controls",
      "model_module_version": "1.5.0",
      "model_name": "HTMLModel",
      "state": {
       "_dom_classes": [],
       "_model_module": "@jupyter-widgets/controls",
       "_model_module_version": "1.5.0",
       "_model_name": "HTMLModel",
       "_view_count": null,
       "_view_module": "@jupyter-widgets/controls",
       "_view_module_version": "1.5.0",
       "_view_name": "HTMLView",
       "description": "",
       "description_tooltip": null,
       "layout": "IPY_MODEL_0bfa7611bc85423289225c6a0ad31912",
       "placeholder": "​",
       "style": "IPY_MODEL_031fb3f0b06a43a8bb81f13104eaf2c3",
       "value": "Computing transition probabilities: 100%"
      }
     },
     "2a8a08e8a12c45dfb83fd86329ec499d": {
      "model_module": "@jupyter-widgets/controls",
      "model_module_version": "1.5.0",
      "model_name": "HTMLModel",
      "state": {
       "_dom_classes": [],
       "_model_module": "@jupyter-widgets/controls",
       "_model_module_version": "1.5.0",
       "_model_name": "HTMLModel",
       "_view_count": null,
       "_view_module": "@jupyter-widgets/controls",
       "_view_module_version": "1.5.0",
       "_view_name": "HTMLView",
       "description": "",
       "description_tooltip": null,
       "layout": "IPY_MODEL_a4fa06487f1147a6a6bc702b5b946276",
       "placeholder": "​",
       "style": "IPY_MODEL_d277dca435324b2182afb48edb3f3469",
       "value": " 1489/1489 [00:26&lt;00:00, 65.77it/s]"
      }
     },
     "6e4ebe6e62fa4411bb2c7c343b29db59": {
      "model_module": "@jupyter-widgets/controls",
      "model_module_version": "1.5.0",
      "model_name": "ProgressStyleModel",
      "state": {
       "_model_module": "@jupyter-widgets/controls",
       "_model_module_version": "1.5.0",
       "_model_name": "ProgressStyleModel",
       "_view_count": null,
       "_view_module": "@jupyter-widgets/base",
       "_view_module_version": "1.2.0",
       "_view_name": "StyleView",
       "bar_color": null,
       "description_width": ""
      }
     },
     "a4fa06487f1147a6a6bc702b5b946276": {
      "model_module": "@jupyter-widgets/base",
      "model_module_version": "1.2.0",
      "model_name": "LayoutModel",
      "state": {
       "_model_module": "@jupyter-widgets/base",
       "_model_module_version": "1.2.0",
       "_model_name": "LayoutModel",
       "_view_count": null,
       "_view_module": "@jupyter-widgets/base",
       "_view_module_version": "1.2.0",
       "_view_name": "LayoutView",
       "align_content": null,
       "align_items": null,
       "align_self": null,
       "border": null,
       "bottom": null,
       "display": null,
       "flex": null,
       "flex_flow": null,
       "grid_area": null,
       "grid_auto_columns": null,
       "grid_auto_flow": null,
       "grid_auto_rows": null,
       "grid_column": null,
       "grid_gap": null,
       "grid_row": null,
       "grid_template_areas": null,
       "grid_template_columns": null,
       "grid_template_rows": null,
       "height": null,
       "justify_content": null,
       "justify_items": null,
       "left": null,
       "margin": null,
       "max_height": null,
       "max_width": null,
       "min_height": null,
       "min_width": null,
       "object_fit": null,
       "object_position": null,
       "order": null,
       "overflow": null,
       "overflow_x": null,
       "overflow_y": null,
       "padding": null,
       "right": null,
       "top": null,
       "visibility": null,
       "width": null
      }
     },
     "bd681cba411241d2a6cf72b948d4e8a1": {
      "model_module": "@jupyter-widgets/base",
      "model_module_version": "1.2.0",
      "model_name": "LayoutModel",
      "state": {
       "_model_module": "@jupyter-widgets/base",
       "_model_module_version": "1.2.0",
       "_model_name": "LayoutModel",
       "_view_count": null,
       "_view_module": "@jupyter-widgets/base",
       "_view_module_version": "1.2.0",
       "_view_name": "LayoutView",
       "align_content": null,
       "align_items": null,
       "align_self": null,
       "border": null,
       "bottom": null,
       "display": null,
       "flex": null,
       "flex_flow": null,
       "grid_area": null,
       "grid_auto_columns": null,
       "grid_auto_flow": null,
       "grid_auto_rows": null,
       "grid_column": null,
       "grid_gap": null,
       "grid_row": null,
       "grid_template_areas": null,
       "grid_template_columns": null,
       "grid_template_rows": null,
       "height": null,
       "justify_content": null,
       "justify_items": null,
       "left": null,
       "margin": null,
       "max_height": null,
       "max_width": null,
       "min_height": null,
       "min_width": null,
       "object_fit": null,
       "object_position": null,
       "order": null,
       "overflow": null,
       "overflow_x": null,
       "overflow_y": null,
       "padding": null,
       "right": null,
       "top": null,
       "visibility": null,
       "width": null
      }
     },
     "c136336df8264450a0152ecbeeab5009": {
      "model_module": "@jupyter-widgets/base",
      "model_module_version": "1.2.0",
      "model_name": "LayoutModel",
      "state": {
       "_model_module": "@jupyter-widgets/base",
       "_model_module_version": "1.2.0",
       "_model_name": "LayoutModel",
       "_view_count": null,
       "_view_module": "@jupyter-widgets/base",
       "_view_module_version": "1.2.0",
       "_view_name": "LayoutView",
       "align_content": null,
       "align_items": null,
       "align_self": null,
       "border": null,
       "bottom": null,
       "display": null,
       "flex": null,
       "flex_flow": null,
       "grid_area": null,
       "grid_auto_columns": null,
       "grid_auto_flow": null,
       "grid_auto_rows": null,
       "grid_column": null,
       "grid_gap": null,
       "grid_row": null,
       "grid_template_areas": null,
       "grid_template_columns": null,
       "grid_template_rows": null,
       "height": null,
       "justify_content": null,
       "justify_items": null,
       "left": null,
       "margin": null,
       "max_height": null,
       "max_width": null,
       "min_height": null,
       "min_width": null,
       "object_fit": null,
       "object_position": null,
       "order": null,
       "overflow": null,
       "overflow_x": null,
       "overflow_y": null,
       "padding": null,
       "right": null,
       "top": null,
       "visibility": null,
       "width": null
      }
     },
     "d277dca435324b2182afb48edb3f3469": {
      "model_module": "@jupyter-widgets/controls",
      "model_module_version": "1.5.0",
      "model_name": "DescriptionStyleModel",
      "state": {
       "_model_module": "@jupyter-widgets/controls",
       "_model_module_version": "1.5.0",
       "_model_name": "DescriptionStyleModel",
       "_view_count": null,
       "_view_module": "@jupyter-widgets/base",
       "_view_module_version": "1.2.0",
       "_view_name": "StyleView",
       "description_width": ""
      }
     }
    },
    "version_major": 2,
    "version_minor": 0
   }
  }
 },
 "nbformat": 4,
 "nbformat_minor": 5
}
