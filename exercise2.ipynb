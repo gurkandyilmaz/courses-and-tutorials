{
 "cells": [
  {
   "cell_type": "code",
   "execution_count": 1,
   "metadata": {},
   "outputs": [],
   "source": [
    "\"\"\"Car Sales Data including the gender, years of experience, sales\n",
    "        training, and hours worked per week for each team member\"\"\"\n",
    "import pandas as pd"
   ]
  },
  {
   "cell_type": "code",
   "execution_count": 113,
   "metadata": {
    "scrolled": true
   },
   "outputs": [
    {
     "data": {
      "text/html": [
       "<div>\n",
       "<style scoped>\n",
       "    .dataframe tbody tr th:only-of-type {\n",
       "        vertical-align: middle;\n",
       "    }\n",
       "\n",
       "    .dataframe tbody tr th {\n",
       "        vertical-align: top;\n",
       "    }\n",
       "\n",
       "    .dataframe thead th {\n",
       "        text-align: right;\n",
       "    }\n",
       "</style>\n",
       "<table border=\"1\" class=\"dataframe\">\n",
       "  <thead>\n",
       "    <tr style=\"text-align: right;\">\n",
       "      <th></th>\n",
       "      <th>Fname</th>\n",
       "      <th>Lname</th>\n",
       "      <th>Gender</th>\n",
       "      <th>HoursPerWeek</th>\n",
       "      <th>SalesTraining</th>\n",
       "      <th>YearsExperience</th>\n",
       "      <th>CarsSold</th>\n",
       "    </tr>\n",
       "  </thead>\n",
       "  <tbody>\n",
       "    <tr>\n",
       "      <th>0</th>\n",
       "      <td>Jada</td>\n",
       "      <td>Walters</td>\n",
       "      <td>F</td>\n",
       "      <td>39</td>\n",
       "      <td>N</td>\n",
       "      <td>3</td>\n",
       "      <td>2</td>\n",
       "    </tr>\n",
       "    <tr>\n",
       "      <th>1</th>\n",
       "      <td>Nicole</td>\n",
       "      <td>Henderson</td>\n",
       "      <td>F</td>\n",
       "      <td>46</td>\n",
       "      <td>N</td>\n",
       "      <td>3</td>\n",
       "      <td>6</td>\n",
       "    </tr>\n",
       "    <tr>\n",
       "      <th>2</th>\n",
       "      <td>Tanya</td>\n",
       "      <td>Moore</td>\n",
       "      <td>F</td>\n",
       "      <td>42</td>\n",
       "      <td>Y</td>\n",
       "      <td>4</td>\n",
       "      <td>6</td>\n",
       "    </tr>\n",
       "    <tr>\n",
       "      <th>3</th>\n",
       "      <td>Ronelle</td>\n",
       "      <td>Jackson</td>\n",
       "      <td>F</td>\n",
       "      <td>38</td>\n",
       "      <td>Y</td>\n",
       "      <td>5</td>\n",
       "      <td>3</td>\n",
       "    </tr>\n",
       "    <tr>\n",
       "      <th>4</th>\n",
       "      <td>Brad</td>\n",
       "      <td>Sears</td>\n",
       "      <td>M</td>\n",
       "      <td>33</td>\n",
       "      <td>N</td>\n",
       "      <td>4</td>\n",
       "      <td>2</td>\n",
       "    </tr>\n",
       "    <tr>\n",
       "      <th>5</th>\n",
       "      <td>Jackie</td>\n",
       "      <td>Rogers</td>\n",
       "      <td>F</td>\n",
       "      <td>45</td>\n",
       "      <td>Y</td>\n",
       "      <td>5</td>\n",
       "      <td>3</td>\n",
       "    </tr>\n",
       "    <tr>\n",
       "      <th>6</th>\n",
       "      <td>Oliver</td>\n",
       "      <td>Vaughn</td>\n",
       "      <td>M</td>\n",
       "      <td>46</td>\n",
       "      <td>N</td>\n",
       "      <td>5</td>\n",
       "      <td>3</td>\n",
       "    </tr>\n",
       "    <tr>\n",
       "      <th>7</th>\n",
       "      <td>Carla</td>\n",
       "      <td>Sapp</td>\n",
       "      <td>F</td>\n",
       "      <td>39</td>\n",
       "      <td>Y</td>\n",
       "      <td>3</td>\n",
       "      <td>6</td>\n",
       "    </tr>\n",
       "    <tr>\n",
       "      <th>8</th>\n",
       "      <td>Karen</td>\n",
       "      <td>Moore</td>\n",
       "      <td>F</td>\n",
       "      <td>33</td>\n",
       "      <td>Y</td>\n",
       "      <td>2</td>\n",
       "      <td>5</td>\n",
       "    </tr>\n",
       "    <tr>\n",
       "      <th>9</th>\n",
       "      <td>Roger</td>\n",
       "      <td>Kane</td>\n",
       "      <td>M</td>\n",
       "      <td>38</td>\n",
       "      <td>N</td>\n",
       "      <td>4</td>\n",
       "      <td>5</td>\n",
       "    </tr>\n",
       "  </tbody>\n",
       "</table>\n",
       "</div>"
      ],
      "text/plain": [
       "     Fname      Lname Gender  HoursPerWeek SalesTraining  YearsExperience  \\\n",
       "0     Jada   Walters       F            39             N                3   \n",
       "1   Nicole  Henderson      F            46             N                3   \n",
       "2    Tanya      Moore      F            42             Y                4   \n",
       "3  Ronelle    Jackson      F            38             Y                5   \n",
       "4     Brad      Sears      M            33             N                4   \n",
       "5   Jackie     Rogers      F            45             Y                5   \n",
       "6   Oliver     Vaughn      M            46             N                5   \n",
       "7    Carla       Sapp      F            39             Y                3   \n",
       "8    Karen      Moore      F            33             Y                2   \n",
       "9    Roger       Kane      M            38             N                4   \n",
       "\n",
       "   CarsSold  \n",
       "0         2  \n",
       "1         6  \n",
       "2         6  \n",
       "3         3  \n",
       "4         2  \n",
       "5         3  \n",
       "6         3  \n",
       "7         6  \n",
       "8         5  \n",
       "9         5  "
      ]
     },
     "execution_count": 113,
     "metadata": {},
     "output_type": "execute_result"
    }
   ],
   "source": [
    "# import data, Create DataFrame\n",
    "df_sales = pd.read_csv('axisdata.csv')\n",
    "df_sales.columns = ['Fname','Lname','Gender','HoursPerWeek','SalesTraining','YearsExperience','CarsSold']\n",
    "df_sales.head(10)\n"
   ]
  },
  {
   "cell_type": "code",
   "execution_count": 114,
   "metadata": {},
   "outputs": [
    {
     "name": "stdout",
     "output_type": "stream",
     "text": [
      "Average cars sold per month : 326.58\n"
     ]
    }
   ],
   "source": [
    "# Average cars sold per month\n",
    "avg_car_month = df_sales[['CarsSold']].sum()[0]/12\n",
    "print(f'Average cars sold per month : {round(avg_car_month,2)}')"
   ]
  },
  {
   "cell_type": "code",
   "execution_count": 115,
   "metadata": {},
   "outputs": [
    {
     "name": "stdout",
     "output_type": "stream",
     "text": [
      "Max: 7, Min: 1\n"
     ]
    }
   ],
   "source": [
    "# Max/Min cars sold per month\n",
    "max_car = df_sales['CarsSold'].max()\n",
    "min_car = df_sales['CarsSold'].min()\n",
    "print(f'Max: {max_car}, Min: {min_car}')"
   ]
  },
  {
   "cell_type": "code",
   "execution_count": 117,
   "metadata": {},
   "outputs": [
    {
     "name": "stdout",
     "output_type": "stream",
     "text": [
      "Avg car sold by Female: 3.76, Avg car sold by Male: 4.08\n"
     ]
    }
   ],
   "source": [
    "# Average cars sold per month by gender\n",
    "car_sold_f = df_sales.loc[df_sales['Gender']=='F'][['CarsSold']].sum()[0]\n",
    "number_f = df_sales.loc[df_sales['Gender'] == 'F'].count()[0]\n",
    "car_sold_m = df_sales.loc[df_sales['Gender']=='M'][['CarsSold']].sum()[0]\n",
    "number_m = df_sales.loc[df_sales['Gender'] == 'M'].count()[0]\n",
    "avg_f = car_sold_f/number_f\n",
    "avg_m = car_sold_m/number_m\n",
    "print(f'Avg car sold by Female: {round(avg_f,2)}, Avg car sold by Male: {round(avg_m,2)}')"
   ]
  },
  {
   "cell_type": "code",
   "execution_count": 120,
   "metadata": {},
   "outputs": [
    {
     "name": "stdout",
     "output_type": "stream",
     "text": [
      "Avg Hours per Week : 34.74 hours\n"
     ]
    }
   ],
   "source": [
    "# Average hours worked by people selling more than three cars per month\n",
    "avg_hour = df_sales.loc[df_sales['CarsSold'] > 3][['HoursPerWeek']].sum()[0]/df_sales.loc[df_sales['CarsSold'] > 3][['HoursPerWeek']].count()[0]\n",
    "print(f'Avg Hours per Week : {round(avg_hour,2)} hours')"
   ]
  },
  {
   "cell_type": "code",
   "execution_count": 121,
   "metadata": {},
   "outputs": [
    {
     "name": "stdout",
     "output_type": "stream",
     "text": [
      "Avg years of experience: 3.05 years\n"
     ]
    }
   ],
   "source": [
    "# Average years of experience for people selling more than three cars per month\n",
    "avg_year = df_sales.loc[df_sales['CarsSold'] > 3][['YearsExperience']].sum()[0]/df_sales.loc[df_sales['CarsSold'] > 3][['YearsExperience']].count()[0]\n",
    "print(f'Avg years of experience: {round(avg_year,2)} years')"
   ]
  },
  {
   "cell_type": "code",
   "execution_count": 122,
   "metadata": {},
   "outputs": [
    {
     "name": "stdout",
     "output_type": "stream",
     "text": [
      "Avg car sold by people with Training: 4.17, without Training: 3.57\n"
     ]
    }
   ],
   "source": [
    "# Average cars sold per month sorted by whether they have had sales training\n",
    "trained = df_sales.loc[df_sales['SalesTraining']=='Y', ['SalesTraining','CarsSold']]\n",
    "trained_car_avg = round(trained[['CarsSold']].sum()[0]/trained[['CarsSold']].count()[0],2)\n",
    "untrained = df_sales.loc[df_sales['SalesTraining']=='N', ['SalesTraining','CarsSold']]\n",
    "untrained_car_avg =round(untrained[['CarsSold']].sum()[0]/untrained[['CarsSold']].count()[0],2)\n",
    "print(f'Avg car sold by people with Training: {trained_car_avg}, without Training: {untrained_car_avg}')"
   ]
  },
  {
   "cell_type": "code",
   "execution_count": 126,
   "metadata": {},
   "outputs": [
    {
     "data": {
      "text/html": [
       "<table class=\"simpletable\">\n",
       "<caption>OLS Regression Results</caption>\n",
       "<tr>\n",
       "  <th>Dep. Variable:</th>        <td>CarsSold</td>     <th>  R-squared:         </th> <td>   0.097</td>\n",
       "</tr>\n",
       "<tr>\n",
       "  <th>Model:</th>                   <td>OLS</td>       <th>  Adj. R-squared:    </th> <td>   0.096</td>\n",
       "</tr>\n",
       "<tr>\n",
       "  <th>Method:</th>             <td>Least Squares</td>  <th>  F-statistic:       </th> <td>   53.78</td>\n",
       "</tr>\n",
       "<tr>\n",
       "  <th>Date:</th>             <td>Fri, 13 Sep 2019</td> <th>  Prob (F-statistic):</th> <td>6.64e-23</td>\n",
       "</tr>\n",
       "<tr>\n",
       "  <th>Time:</th>                 <td>18:01:37</td>     <th>  Log-Likelihood:    </th> <td> -1788.7</td>\n",
       "</tr>\n",
       "<tr>\n",
       "  <th>No. Observations:</th>      <td>   999</td>      <th>  AIC:               </th> <td>   3583.</td>\n",
       "</tr>\n",
       "<tr>\n",
       "  <th>Df Residuals:</th>          <td>   996</td>      <th>  BIC:               </th> <td>   3598.</td>\n",
       "</tr>\n",
       "<tr>\n",
       "  <th>Df Model:</th>              <td>     2</td>      <th>                     </th>     <td> </td>   \n",
       "</tr>\n",
       "<tr>\n",
       "  <th>Covariance Type:</th>      <td>nonrobust</td>    <th>                     </th>     <td> </td>   \n",
       "</tr>\n",
       "</table>\n",
       "<table class=\"simpletable\">\n",
       "<tr>\n",
       "           <td></td>             <th>coef</th>     <th>std err</th>      <th>t</th>      <th>P>|t|</th>  <th>[0.025</th>    <th>0.975]</th>  \n",
       "</tr>\n",
       "<tr>\n",
       "  <th>Intercept</th>          <td>    2.0433</td> <td>    0.200</td> <td>   10.198</td> <td> 0.000</td> <td>    1.650</td> <td>    2.436</td>\n",
       "</tr>\n",
       "<tr>\n",
       "  <th>SalesTraining[T.Y]</th> <td>    0.5754</td> <td>    0.093</td> <td>    6.165</td> <td> 0.000</td> <td>    0.392</td> <td>    0.759</td>\n",
       "</tr>\n",
       "<tr>\n",
       "  <th>HoursPerWeek</th>       <td>    0.0457</td> <td>    0.006</td> <td>    8.177</td> <td> 0.000</td> <td>    0.035</td> <td>    0.057</td>\n",
       "</tr>\n",
       "</table>\n",
       "<table class=\"simpletable\">\n",
       "<tr>\n",
       "  <th>Omnibus:</th>       <td>717.219</td> <th>  Durbin-Watson:     </th> <td>   2.074</td>\n",
       "</tr>\n",
       "<tr>\n",
       "  <th>Prob(Omnibus):</th> <td> 0.000</td>  <th>  Jarque-Bera (JB):  </th> <td>  59.649</td>\n",
       "</tr>\n",
       "<tr>\n",
       "  <th>Skew:</th>          <td> 0.002</td>  <th>  Prob(JB):          </th> <td>1.12e-13</td>\n",
       "</tr>\n",
       "<tr>\n",
       "  <th>Kurtosis:</th>      <td> 1.803</td>  <th>  Cond. No.          </th> <td>    153.</td>\n",
       "</tr>\n",
       "</table><br/><br/>Warnings:<br/>[1] Standard Errors assume that the covariance matrix of the errors is correctly specified."
      ],
      "text/plain": [
       "<class 'statsmodels.iolib.summary.Summary'>\n",
       "\"\"\"\n",
       "                            OLS Regression Results                            \n",
       "==============================================================================\n",
       "Dep. Variable:               CarsSold   R-squared:                       0.097\n",
       "Model:                            OLS   Adj. R-squared:                  0.096\n",
       "Method:                 Least Squares   F-statistic:                     53.78\n",
       "Date:                Fri, 13 Sep 2019   Prob (F-statistic):           6.64e-23\n",
       "Time:                        18:01:37   Log-Likelihood:                -1788.7\n",
       "No. Observations:                 999   AIC:                             3583.\n",
       "Df Residuals:                     996   BIC:                             3598.\n",
       "Df Model:                           2                                         \n",
       "Covariance Type:            nonrobust                                         \n",
       "======================================================================================\n",
       "                         coef    std err          t      P>|t|      [0.025      0.975]\n",
       "--------------------------------------------------------------------------------------\n",
       "Intercept              2.0433      0.200     10.198      0.000       1.650       2.436\n",
       "SalesTraining[T.Y]     0.5754      0.093      6.165      0.000       0.392       0.759\n",
       "HoursPerWeek           0.0457      0.006      8.177      0.000       0.035       0.057\n",
       "==============================================================================\n",
       "Omnibus:                      717.219   Durbin-Watson:                   2.074\n",
       "Prob(Omnibus):                  0.000   Jarque-Bera (JB):               59.649\n",
       "Skew:                           0.002   Prob(JB):                     1.12e-13\n",
       "Kurtosis:                       1.803   Cond. No.                         153.\n",
       "==============================================================================\n",
       "\n",
       "Warnings:\n",
       "[1] Standard Errors assume that the covariance matrix of the errors is correctly specified.\n",
       "\"\"\""
      ]
     },
     "execution_count": 126,
     "metadata": {},
     "output_type": "execute_result"
    }
   ],
   "source": [
    "import statsmodels.formula.api as sm\n",
    "result = sm.ols(formula = 'CarsSold ~ HoursPerWeek + SalesTraining ', data = df_sales).fit()\n",
    "result.summary()\n"
   ]
  },
  {
   "cell_type": "code",
   "execution_count": null,
   "metadata": {},
   "outputs": [],
   "source": []
  }
 ],
 "metadata": {
  "kernelspec": {
   "display_name": "Python 3",
   "language": "python",
   "name": "python3"
  },
  "language_info": {
   "codemirror_mode": {
    "name": "ipython",
    "version": 3
   },
   "file_extension": ".py",
   "mimetype": "text/x-python",
   "name": "python",
   "nbconvert_exporter": "python",
   "pygments_lexer": "ipython3",
   "version": "3.7.3"
  }
 },
 "nbformat": 4,
 "nbformat_minor": 2
}
