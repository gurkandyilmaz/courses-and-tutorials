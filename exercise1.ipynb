{
 "cells": [
  {
   "cell_type": "code",
   "execution_count": 140,
   "metadata": {
    "scrolled": true
   },
   "outputs": [],
   "source": [
    "\"\"\"Public High School Student Data including \n",
    "    Gender, Grade, Hours of Study of the Students\"\"\"\n",
    "import pandas as pd"
   ]
  },
  {
   "cell_type": "code",
   "execution_count": 135,
   "metadata": {},
   "outputs": [
    {
     "data": {
      "text/html": [
       "<div>\n",
       "<style scoped>\n",
       "    .dataframe tbody tr th:only-of-type {\n",
       "        vertical-align: middle;\n",
       "    }\n",
       "\n",
       "    .dataframe tbody tr th {\n",
       "        vertical-align: top;\n",
       "    }\n",
       "\n",
       "    .dataframe thead th {\n",
       "        text-align: right;\n",
       "    }\n",
       "</style>\n",
       "<table border=\"1\" class=\"dataframe\">\n",
       "  <thead>\n",
       "    <tr style=\"text-align: right;\">\n",
       "      <th></th>\n",
       "      <th>Fname</th>\n",
       "      <th>Lname</th>\n",
       "      <th>Gender</th>\n",
       "      <th>Grade</th>\n",
       "      <th>Hours of Study</th>\n",
       "    </tr>\n",
       "  </thead>\n",
       "  <tbody>\n",
       "    <tr>\n",
       "      <th>989</th>\n",
       "      <td>Lisa</td>\n",
       "      <td>Rogers</td>\n",
       "      <td>F</td>\n",
       "      <td>D</td>\n",
       "      <td>21</td>\n",
       "    </tr>\n",
       "    <tr>\n",
       "      <th>990</th>\n",
       "      <td>Karen</td>\n",
       "      <td>Looner</td>\n",
       "      <td>F</td>\n",
       "      <td>A</td>\n",
       "      <td>28</td>\n",
       "    </tr>\n",
       "    <tr>\n",
       "      <th>991</th>\n",
       "      <td>Peter</td>\n",
       "      <td>Carter</td>\n",
       "      <td>M</td>\n",
       "      <td>D</td>\n",
       "      <td>25</td>\n",
       "    </tr>\n",
       "    <tr>\n",
       "      <th>992</th>\n",
       "      <td>Samantha</td>\n",
       "      <td>Baker</td>\n",
       "      <td>F</td>\n",
       "      <td>A</td>\n",
       "      <td>24</td>\n",
       "    </tr>\n",
       "    <tr>\n",
       "      <th>993</th>\n",
       "      <td>Mike</td>\n",
       "      <td>Sapp</td>\n",
       "      <td>M</td>\n",
       "      <td>D</td>\n",
       "      <td>24</td>\n",
       "    </tr>\n",
       "    <tr>\n",
       "      <th>994</th>\n",
       "      <td>Harold</td>\n",
       "      <td>Looner</td>\n",
       "      <td>M</td>\n",
       "      <td>D</td>\n",
       "      <td>11</td>\n",
       "    </tr>\n",
       "    <tr>\n",
       "      <th>995</th>\n",
       "      <td>Paula</td>\n",
       "      <td>Moore</td>\n",
       "      <td>F</td>\n",
       "      <td>C</td>\n",
       "      <td>6</td>\n",
       "    </tr>\n",
       "    <tr>\n",
       "      <th>996</th>\n",
       "      <td>Martin</td>\n",
       "      <td>Franklin</td>\n",
       "      <td>M</td>\n",
       "      <td>C</td>\n",
       "      <td>25</td>\n",
       "    </tr>\n",
       "    <tr>\n",
       "      <th>997</th>\n",
       "      <td>Nicole</td>\n",
       "      <td>Henderson</td>\n",
       "      <td>F</td>\n",
       "      <td>A</td>\n",
       "      <td>20</td>\n",
       "    </tr>\n",
       "    <tr>\n",
       "      <th>998</th>\n",
       "      <td>Veronica</td>\n",
       "      <td>Harrison</td>\n",
       "      <td>F</td>\n",
       "      <td>D</td>\n",
       "      <td>21</td>\n",
       "    </tr>\n",
       "  </tbody>\n",
       "</table>\n",
       "</div>"
      ],
      "text/plain": [
       "        Fname      Lname Gender Grade  Hours of Study\n",
       "989      Lisa     Rogers      F     D              21\n",
       "990     Karen     Looner      F     A              28\n",
       "991     Peter     Carter      M     D              25\n",
       "992  Samantha      Baker      F     A              24\n",
       "993      Mike       Sapp      M     D              24\n",
       "994    Harold     Looner      M     D              11\n",
       "995     Paula      Moore      F     C               6\n",
       "996    Martin   Franklin      M     C              25\n",
       "997    Nicole  Henderson      F     A              20\n",
       "998  Veronica   Harrison      F     D              21"
      ]
     },
     "execution_count": 135,
     "metadata": {},
     "output_type": "execute_result"
    }
   ],
   "source": [
    "# import data, create DataFrame\n",
    "df = pd.read_csv('algebradata.csv')\n",
    "df.tail(10)"
   ]
  },
  {
   "cell_type": "code",
   "execution_count": 100,
   "metadata": {},
   "outputs": [
    {
     "name": "stdout",
     "output_type": "stream",
     "text": [
      "Percentage of students with a Passing grade: 91.69%, and Failed : 8.31%\n"
     ]
    }
   ],
   "source": [
    "# Percentage of students with a passing grade\n",
    "num_failed = df[df['Grade']=='F'].count()[0]\n",
    "num_total = df.count()[0]\n",
    "num_passed = num_total - num_failed\n",
    "percent_failed = (num_failed/num_total)*100\n",
    "percent_passed = (num_passed/num_total)*100\n",
    "print(f'Percentage of students with a Passing grade: {round(percent_passed,2)}%, and Failed : {round(percent_failed,2)}%')"
   ]
  },
  {
   "cell_type": "code",
   "execution_count": 139,
   "metadata": {},
   "outputs": [
    {
     "name": "stdout",
     "output_type": "stream",
     "text": [
      "Women Passed: 49.45%\n"
     ]
    }
   ],
   "source": [
    "#Percentage of women with a passing grade\n",
    "women_passed = df.loc[(df['Gender']=='F') & (df['Grade']!='F')]\n",
    "percent_passed_women = (women_passed.count()[0]/num_total)*100\n",
    "print(f'Women Passed: {round(percent_passed_women,2)}%')"
   ]
  },
  {
   "cell_type": "code",
   "execution_count": 134,
   "metadata": {},
   "outputs": [
    {
     "name": "stdout",
     "output_type": "stream",
     "text": [
      "Avg. hours of study for all Students : 15.12\n"
     ]
    }
   ],
   "source": [
    "# Average hours of study for all students\n",
    "total_hours = df[['Hours of Study']].sum()[0]\n",
    "average_hours = total_hours/df[['Hours of Study']].count()[0]\n",
    "print(f'Avg. hours of study for all Students : {round(average_hours,2)}')"
   ]
  },
  {
   "cell_type": "code",
   "execution_count": 138,
   "metadata": {},
   "outputs": [
    {
     "name": "stdout",
     "output_type": "stream",
     "text": [
      "Avg. hours of study for Students with a Passing Grade : 16.48\n"
     ]
    }
   ],
   "source": [
    "# Average hours of study for students with a passing grade\n",
    "student_passed = df.loc[df['Grade']!='F'].count()[0]\n",
    "average_hours_passed = total_hours/student_passed\n",
    "print(f'Avg. hours of study for Students with a Passing Grade : {round(average_hours_passed,2)}')"
   ]
  },
  {
   "cell_type": "code",
   "execution_count": null,
   "metadata": {},
   "outputs": [],
   "source": []
  }
 ],
 "metadata": {
  "kernelspec": {
   "display_name": "Python 3",
   "language": "python",
   "name": "python3"
  },
  "language_info": {
   "codemirror_mode": {
    "name": "ipython",
    "version": 3
   },
   "file_extension": ".py",
   "mimetype": "text/x-python",
   "name": "python",
   "nbconvert_exporter": "python",
   "pygments_lexer": "ipython3",
   "version": "3.7.3"
  }
 },
 "nbformat": 4,
 "nbformat_minor": 2
}
