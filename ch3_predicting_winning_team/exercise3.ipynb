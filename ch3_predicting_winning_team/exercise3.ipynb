{
 "cells": [
  {
   "cell_type": "markdown",
   "metadata": {},
   "source": [
    "#### \"Learning Data Mining with Python - Chapter 3\"\n",
    "This Jupyter notebook contains an implementation of a data mining algorithm\n",
    "to predict the winner of a basketball game.\n",
    "#### Results :\n",
    "#Accuracy can be improved by adding new features, using different classes.\n",
    "#Increased number of features may not be result in better accuracy, model could not learn from those many features(OneHotEncoding Class)."
   ]
  },
  {
   "cell_type": "code",
   "execution_count": 38,
   "metadata": {},
   "outputs": [],
   "source": [
    "# Necessary packages\n",
    "import pandas as pd\n",
    "import numpy as np\n",
    "from datetime import datetime"
   ]
  },
  {
   "cell_type": "code",
   "execution_count": 40,
   "metadata": {},
   "outputs": [
    {
     "data": {
      "text/html": [
       "<div>\n",
       "<style scoped>\n",
       "    .dataframe tbody tr th:only-of-type {\n",
       "        vertical-align: middle;\n",
       "    }\n",
       "\n",
       "    .dataframe tbody tr th {\n",
       "        vertical-align: top;\n",
       "    }\n",
       "\n",
       "    .dataframe thead th {\n",
       "        text-align: right;\n",
       "    }\n",
       "</style>\n",
       "<table border=\"1\" class=\"dataframe\">\n",
       "  <thead>\n",
       "    <tr style=\"text-align: right;\">\n",
       "      <th></th>\n",
       "      <th>Date</th>\n",
       "      <th>Time</th>\n",
       "      <th>ScoreType</th>\n",
       "      <th>VisitorTeam</th>\n",
       "      <th>VisitorPts</th>\n",
       "      <th>HomeTeam</th>\n",
       "      <th>HomePts</th>\n",
       "      <th>OverTime</th>\n",
       "      <th>Notes</th>\n",
       "    </tr>\n",
       "  </thead>\n",
       "  <tbody>\n",
       "    <tr>\n",
       "      <th>count</th>\n",
       "      <td>1235</td>\n",
       "      <td>1235</td>\n",
       "      <td>1235</td>\n",
       "      <td>1235</td>\n",
       "      <td>1235</td>\n",
       "      <td>1235</td>\n",
       "      <td>1235</td>\n",
       "      <td>84</td>\n",
       "      <td>6</td>\n",
       "    </tr>\n",
       "    <tr>\n",
       "      <th>unique</th>\n",
       "      <td>168</td>\n",
       "      <td>24</td>\n",
       "      <td>6</td>\n",
       "      <td>35</td>\n",
       "      <td>77</td>\n",
       "      <td>35</td>\n",
       "      <td>70</td>\n",
       "      <td>8</td>\n",
       "      <td>6</td>\n",
       "    </tr>\n",
       "    <tr>\n",
       "      <th>top</th>\n",
       "      <td>Wed Apr 16 2014</td>\n",
       "      <td>8:00 pm</td>\n",
       "      <td>Box Score</td>\n",
       "      <td>Chicago Bulls</td>\n",
       "      <td>103</td>\n",
       "      <td>Chicago Bulls</td>\n",
       "      <td>102</td>\n",
       "      <td>OT</td>\n",
       "      <td>at London England</td>\n",
       "    </tr>\n",
       "    <tr>\n",
       "      <th>freq</th>\n",
       "      <td>15</td>\n",
       "      <td>269</td>\n",
       "      <td>1230</td>\n",
       "      <td>41</td>\n",
       "      <td>50</td>\n",
       "      <td>41</td>\n",
       "      <td>50</td>\n",
       "      <td>65</td>\n",
       "      <td>1</td>\n",
       "    </tr>\n",
       "  </tbody>\n",
       "</table>\n",
       "</div>"
      ],
      "text/plain": [
       "                   Date     Time  ScoreType    VisitorTeam VisitorPts  \\\n",
       "count              1235     1235       1235           1235       1235   \n",
       "unique              168       24          6             35         77   \n",
       "top     Wed Apr 16 2014  8:00 pm  Box Score  Chicago Bulls        103   \n",
       "freq                 15      269       1230             41         50   \n",
       "\n",
       "             HomeTeam HomePts OverTime              Notes  \n",
       "count            1235    1235       84                  6  \n",
       "unique             35      70        8                  6  \n",
       "top     Chicago Bulls     102       OT  at London England  \n",
       "freq               41      50       65                  1  "
      ]
     },
     "execution_count": 40,
     "metadata": {},
     "output_type": "execute_result"
    }
   ],
   "source": [
    "#Cleaning up the data set\n",
    "#The date column includes months' names at some indexes rather than a date obj.\n",
    "df_original = pd.read_csv(r'NBA_games_2014.csv') \n",
    "df_original.columns = [\"Date\",\"Time\" ,\"ScoreType\", \"VisitorTeam\", \"VisitorPts\", \"HomeTeam\", \"HomePts\", \"OverTime\", \"Notes\"]\n",
    "df_original.describe()"
   ]
  },
  {
   "cell_type": "code",
   "execution_count": 41,
   "metadata": {},
   "outputs": [
    {
     "name": "stdout",
     "output_type": "stream",
     "text": [
      "The rows will be DELETED: [247, 467, 696, 874, 1112]\n"
     ]
    }
   ],
   "source": [
    "months = ['October', 'November', 'December', 'January', 'February', \n",
    "          'March', 'May', 'April']\n",
    "row_deleted = []\n",
    "for month in months:\n",
    "    a = df_original[df_original.loc[:, 'Date'] == month]\n",
    "    if not a.empty:\n",
    "        row_deleted.append(a.index[0])\n",
    "print(\"The rows will be DELETED: {0}\".format(row_deleted))"
   ]
  },
  {
   "cell_type": "code",
   "execution_count": 5,
   "metadata": {
    "scrolled": true
   },
   "outputs": [],
   "source": [
    "df_new = df_original.drop(row_deleted, axis = 0)\n",
    "df_new.to_csv('new_NBA_games_2014.csv', index=False, header=True)"
   ]
  },
  {
   "cell_type": "code",
   "execution_count": 6,
   "metadata": {},
   "outputs": [],
   "source": [
    "# Load the clean data\n",
    "df = pd.read_csv(r\"new_NBA_games_2014.csv\", parse_dates =[\"Date\"])"
   ]
  },
  {
   "cell_type": "code",
   "execution_count": 7,
   "metadata": {
    "scrolled": false
   },
   "outputs": [
    {
     "data": {
      "text/html": [
       "<div>\n",
       "<style scoped>\n",
       "    .dataframe tbody tr th:only-of-type {\n",
       "        vertical-align: middle;\n",
       "    }\n",
       "\n",
       "    .dataframe tbody tr th {\n",
       "        vertical-align: top;\n",
       "    }\n",
       "\n",
       "    .dataframe thead th {\n",
       "        text-align: right;\n",
       "    }\n",
       "</style>\n",
       "<table border=\"1\" class=\"dataframe\">\n",
       "  <thead>\n",
       "    <tr style=\"text-align: right;\">\n",
       "      <th></th>\n",
       "      <th>Date</th>\n",
       "      <th>VisitorTeam</th>\n",
       "      <th>VisitorPts</th>\n",
       "      <th>HomeTeam</th>\n",
       "      <th>HomePts</th>\n",
       "      <th>HomeWin</th>\n",
       "    </tr>\n",
       "  </thead>\n",
       "  <tbody>\n",
       "    <tr>\n",
       "      <th>0</th>\n",
       "      <td>2013-10-29</td>\n",
       "      <td>Orlando Magic</td>\n",
       "      <td>87</td>\n",
       "      <td>Indiana Pacers</td>\n",
       "      <td>97</td>\n",
       "      <td>True</td>\n",
       "    </tr>\n",
       "    <tr>\n",
       "      <th>1</th>\n",
       "      <td>2013-10-29</td>\n",
       "      <td>Los Angeles Clippers</td>\n",
       "      <td>103</td>\n",
       "      <td>Los Angeles Lakers</td>\n",
       "      <td>116</td>\n",
       "      <td>True</td>\n",
       "    </tr>\n",
       "    <tr>\n",
       "      <th>2</th>\n",
       "      <td>2013-10-29</td>\n",
       "      <td>Chicago Bulls</td>\n",
       "      <td>95</td>\n",
       "      <td>Miami Heat</td>\n",
       "      <td>107</td>\n",
       "      <td>True</td>\n",
       "    </tr>\n",
       "    <tr>\n",
       "      <th>3</th>\n",
       "      <td>2013-10-30</td>\n",
       "      <td>Brooklyn Nets</td>\n",
       "      <td>94</td>\n",
       "      <td>Cleveland Cavaliers</td>\n",
       "      <td>98</td>\n",
       "      <td>True</td>\n",
       "    </tr>\n",
       "    <tr>\n",
       "      <th>4</th>\n",
       "      <td>2013-10-30</td>\n",
       "      <td>Atlanta Hawks</td>\n",
       "      <td>109</td>\n",
       "      <td>Dallas Mavericks</td>\n",
       "      <td>118</td>\n",
       "      <td>True</td>\n",
       "    </tr>\n",
       "  </tbody>\n",
       "</table>\n",
       "</div>"
      ],
      "text/plain": [
       "        Date           VisitorTeam  VisitorPts             HomeTeam  HomePts  \\\n",
       "0 2013-10-29         Orlando Magic          87       Indiana Pacers       97   \n",
       "1 2013-10-29  Los Angeles Clippers         103   Los Angeles Lakers      116   \n",
       "2 2013-10-29         Chicago Bulls          95           Miami Heat      107   \n",
       "3 2013-10-30         Brooklyn Nets          94  Cleveland Cavaliers       98   \n",
       "4 2013-10-30         Atlanta Hawks         109     Dallas Mavericks      118   \n",
       "\n",
       "   HomeWin  \n",
       "0     True  \n",
       "1     True  \n",
       "2     True  \n",
       "3     True  \n",
       "4     True  "
      ]
     },
     "execution_count": 7,
     "metadata": {},
     "output_type": "execute_result"
    }
   ],
   "source": [
    "df['HomeWin'] = df['HomePts'] > df['VisitorPts']\n",
    "df.drop([\"Notes\",\"OverTime\",\"ScoreType\",\"Time\"], axis=1).head()"
   ]
  },
  {
   "cell_type": "code",
   "execution_count": 8,
   "metadata": {},
   "outputs": [
    {
     "name": "stdout",
     "output_type": "stream",
     "text": [
      "HomeTeams win at a rate: 58.05%\n"
     ]
    }
   ],
   "source": [
    "# Calculate Win rate for HomeTeam.\n",
    "n_home_winners = df[df['HomeWin'] == True]['HomeWin'].count()\n",
    "n_teams = df['HomeWin'].count()\n",
    "print(f\"HomeTeams win at a rate: {round(100*n_home_winners/n_teams,2)}%\")"
   ]
  },
  {
   "cell_type": "code",
   "execution_count": 9,
   "metadata": {
    "scrolled": true
   },
   "outputs": [],
   "source": [
    "# Add a new column to show Last win of HomeTeam and VisitorTeam.\n",
    "from collections import defaultdict\n",
    "won_last = defaultdict(int)\n",
    "\n",
    "df['HomeLastWin'] = False\n",
    "df['VisitorLastWin'] = False\n",
    "\n",
    "for index, row in df.iterrows():\n",
    "    home_team = row[\"HomeTeam\"]\n",
    "    visitor_team = row[\"VisitorTeam\"]\n",
    "    row[\"HomeLastWin\"] = won_last[home_team]\n",
    "    row[\"VisitorLastWin\"] = won_last[visitor_team]\n",
    "    df.loc[index] = row\n",
    "    won_last[home_team] = row[\"HomeWin\"]\n",
    "    won_last[visitor_team] = not row[\"HomeWin\"]    "
   ]
  },
  {
   "cell_type": "code",
   "execution_count": 10,
   "metadata": {},
   "outputs": [],
   "source": [
    "# Targed data to be predicted.\n",
    "y_true = df['HomeWin'].values"
   ]
  },
  {
   "cell_type": "code",
   "execution_count": 43,
   "metadata": {},
   "outputs": [
    {
     "name": "stdout",
     "output_type": "stream",
     "text": [
      "Accuracy : 59.2%\n"
     ]
    }
   ],
   "source": [
    "# DecisionTree estimation of the accuracy\n",
    "# Accuracy of 'HomeTeam wins' assumption based on the LastWin features.\n",
    "from sklearn.tree import DecisionTreeClassifier\n",
    "from sklearn.model_selection import cross_val_score\n",
    "clf_tree = DecisionTreeClassifier(random_state = 14)\n",
    "X_previouswins = df[[\"HomeLastWin\", \"VisitorLastWin\"]].values\n",
    "scores_tree = cross_val_score(clf_tree, X_previouswins, y_true, scoring='accuracy', cv = 10)\n",
    "print(f\"Accuracy : {round(100*scores_tree.mean(),2)}%\")"
   ]
  },
  {
   "cell_type": "code",
   "execution_count": 12,
   "metadata": {
    "scrolled": false
   },
   "outputs": [
    {
     "data": {
      "text/html": [
       "<div>\n",
       "<style scoped>\n",
       "    .dataframe tbody tr th:only-of-type {\n",
       "        vertical-align: middle;\n",
       "    }\n",
       "\n",
       "    .dataframe tbody tr th {\n",
       "        vertical-align: top;\n",
       "    }\n",
       "\n",
       "    .dataframe thead th {\n",
       "        text-align: right;\n",
       "    }\n",
       "</style>\n",
       "<table border=\"1\" class=\"dataframe\">\n",
       "  <thead>\n",
       "    <tr style=\"text-align: right;\">\n",
       "      <th></th>\n",
       "      <th>Rk</th>\n",
       "      <th>Team</th>\n",
       "      <th>Overall</th>\n",
       "      <th>Home</th>\n",
       "      <th>Road</th>\n",
       "      <th>E</th>\n",
       "      <th>W</th>\n",
       "      <th>A</th>\n",
       "      <th>C</th>\n",
       "      <th>SE</th>\n",
       "      <th>...</th>\n",
       "      <th>Post</th>\n",
       "      <th>≤3</th>\n",
       "      <th>≥10</th>\n",
       "      <th>Oct</th>\n",
       "      <th>Nov</th>\n",
       "      <th>Dec</th>\n",
       "      <th>Jan</th>\n",
       "      <th>Feb</th>\n",
       "      <th>Mar</th>\n",
       "      <th>Apr</th>\n",
       "    </tr>\n",
       "  </thead>\n",
       "  <tbody>\n",
       "    <tr>\n",
       "      <th>0</th>\n",
       "      <td>1</td>\n",
       "      <td>Miami Heat</td>\n",
       "      <td>66-16</td>\n",
       "      <td>37-4</td>\n",
       "      <td>29-12</td>\n",
       "      <td>41-11</td>\n",
       "      <td>25-5</td>\n",
       "      <td>14-4</td>\n",
       "      <td>12-6</td>\n",
       "      <td>15-1</td>\n",
       "      <td>...</td>\n",
       "      <td>30-2</td>\n",
       "      <td>9-3</td>\n",
       "      <td>39-8</td>\n",
       "      <td>1-0</td>\n",
       "      <td>10-3</td>\n",
       "      <td>10-5</td>\n",
       "      <td>8-5</td>\n",
       "      <td>12-1</td>\n",
       "      <td>17-1</td>\n",
       "      <td>8-1</td>\n",
       "    </tr>\n",
       "    <tr>\n",
       "      <th>1</th>\n",
       "      <td>2</td>\n",
       "      <td>Oklahoma City Thunder</td>\n",
       "      <td>60-22</td>\n",
       "      <td>34-7</td>\n",
       "      <td>26-15</td>\n",
       "      <td>21-9</td>\n",
       "      <td>39-13</td>\n",
       "      <td>7-3</td>\n",
       "      <td>8-2</td>\n",
       "      <td>6-4</td>\n",
       "      <td>...</td>\n",
       "      <td>21-8</td>\n",
       "      <td>3-6</td>\n",
       "      <td>44-6</td>\n",
       "      <td>NaN</td>\n",
       "      <td>13-4</td>\n",
       "      <td>11-2</td>\n",
       "      <td>11-5</td>\n",
       "      <td>7-4</td>\n",
       "      <td>12-5</td>\n",
       "      <td>6-2</td>\n",
       "    </tr>\n",
       "    <tr>\n",
       "      <th>2</th>\n",
       "      <td>3</td>\n",
       "      <td>San Antonio Spurs</td>\n",
       "      <td>58-24</td>\n",
       "      <td>35-6</td>\n",
       "      <td>23-18</td>\n",
       "      <td>25-5</td>\n",
       "      <td>33-19</td>\n",
       "      <td>8-2</td>\n",
       "      <td>9-1</td>\n",
       "      <td>8-2</td>\n",
       "      <td>...</td>\n",
       "      <td>16-12</td>\n",
       "      <td>9-5</td>\n",
       "      <td>31-10</td>\n",
       "      <td>1-0</td>\n",
       "      <td>12-4</td>\n",
       "      <td>12-4</td>\n",
       "      <td>12-3</td>\n",
       "      <td>8-3</td>\n",
       "      <td>10-4</td>\n",
       "      <td>3-6</td>\n",
       "    </tr>\n",
       "    <tr>\n",
       "      <th>3</th>\n",
       "      <td>4</td>\n",
       "      <td>Denver Nuggets</td>\n",
       "      <td>57-25</td>\n",
       "      <td>38-3</td>\n",
       "      <td>19-22</td>\n",
       "      <td>19-11</td>\n",
       "      <td>38-14</td>\n",
       "      <td>5-5</td>\n",
       "      <td>10-0</td>\n",
       "      <td>4-6</td>\n",
       "      <td>...</td>\n",
       "      <td>24-4</td>\n",
       "      <td>11-7</td>\n",
       "      <td>28-8</td>\n",
       "      <td>0-1</td>\n",
       "      <td>8-8</td>\n",
       "      <td>9-6</td>\n",
       "      <td>12-3</td>\n",
       "      <td>8-4</td>\n",
       "      <td>13-2</td>\n",
       "      <td>7-1</td>\n",
       "    </tr>\n",
       "    <tr>\n",
       "      <th>4</th>\n",
       "      <td>5</td>\n",
       "      <td>Los Angeles Clippers</td>\n",
       "      <td>56-26</td>\n",
       "      <td>32-9</td>\n",
       "      <td>24-17</td>\n",
       "      <td>21-9</td>\n",
       "      <td>35-17</td>\n",
       "      <td>7-3</td>\n",
       "      <td>8-2</td>\n",
       "      <td>6-4</td>\n",
       "      <td>...</td>\n",
       "      <td>17-9</td>\n",
       "      <td>3-5</td>\n",
       "      <td>38-12</td>\n",
       "      <td>1-0</td>\n",
       "      <td>8-6</td>\n",
       "      <td>16-0</td>\n",
       "      <td>9-7</td>\n",
       "      <td>8-5</td>\n",
       "      <td>7-7</td>\n",
       "      <td>7-1</td>\n",
       "    </tr>\n",
       "  </tbody>\n",
       "</table>\n",
       "<p>5 rows × 24 columns</p>\n",
       "</div>"
      ],
      "text/plain": [
       "   Rk                   Team Overall  Home   Road      E      W     A     C  \\\n",
       "0   1             Miami Heat   66-16  37-4  29-12  41-11   25-5  14-4  12-6   \n",
       "1   2  Oklahoma City Thunder   60-22  34-7  26-15   21-9  39-13   7-3   8-2   \n",
       "2   3      San Antonio Spurs   58-24  35-6  23-18   25-5  33-19   8-2   9-1   \n",
       "3   4         Denver Nuggets   57-25  38-3  19-22  19-11  38-14   5-5  10-0   \n",
       "4   5   Los Angeles Clippers   56-26  32-9  24-17   21-9  35-17   7-3   8-2   \n",
       "\n",
       "     SE  ...   Post    ≤3    ≥10  Oct   Nov   Dec   Jan   Feb   Mar  Apr  \n",
       "0  15-1  ...   30-2   9-3   39-8  1-0  10-3  10-5   8-5  12-1  17-1  8-1  \n",
       "1   6-4  ...   21-8   3-6   44-6  NaN  13-4  11-2  11-5   7-4  12-5  6-2  \n",
       "2   8-2  ...  16-12   9-5  31-10  1-0  12-4  12-4  12-3   8-3  10-4  3-6  \n",
       "3   4-6  ...   24-4  11-7   28-8  0-1   8-8   9-6  12-3   8-4  13-2  7-1  \n",
       "4   6-4  ...   17-9   3-5  38-12  1-0   8-6  16-0   9-7   8-5   7-7  7-1  \n",
       "\n",
       "[5 rows x 24 columns]"
      ]
     },
     "execution_count": 12,
     "metadata": {},
     "output_type": "execute_result"
    }
   ],
   "source": [
    "# new feature: standings of the previous year.\n",
    "standings = pd.read_csv(r\"NBA_standings_2013.csv\",  header=1)\n",
    "standings.head()"
   ]
  },
  {
   "cell_type": "code",
   "execution_count": 44,
   "metadata": {},
   "outputs": [],
   "source": [
    "# New feature: whether HomeTeam Ranks higher than VisitorTeam in the prev. year.\n",
    "df[\"HomeRnkHigher\"] = False\n",
    "for index, row in df.iterrows():\n",
    "    home_team = row[\"HomeTeam\"]\n",
    "    visitor_team = row[\"VisitorTeam\"]\n",
    "    \n",
    "    if home_team == \"New Orleans Pelicans\": \n",
    "        home_team = \"New Orleans Hornets\"\n",
    "    elif visitor_team == \"New Orleans Pelicans\":\n",
    "        visitor_team = \"New Orleans Hornets\"\n",
    "    \n",
    "    home_rank = standings[standings[\"Team\"] == home_team][\"Rk\"].values[0]\n",
    "    visitor_rank = standings[standings[\"Team\"] == visitor_team][\"Rk\"].values[0]\n",
    "    #print(\"HomeTeamRank: {0}, VisitorTeamRank: {1}\".format(home_rank, visitor_rank))\n",
    "    df[\"HomeRnkHigher\"].values[index] = home_rank < visitor_rank"
   ]
  },
  {
   "cell_type": "code",
   "execution_count": 46,
   "metadata": {},
   "outputs": [
    {
     "name": "stdout",
     "output_type": "stream",
     "text": [
      "Accuracy of the HomeTeam Wins assumption Based on 2013 standings: 60.4%\n"
     ]
    }
   ],
   "source": [
    "# Same DecisionTree class with a new feature\n",
    "X_homehigher = df[[\"HomeLastWin\", \"VisitorLastWin\", \"HomeRnkHigher\"]].values\n",
    "scores_tree_2 = cross_val_score(clf_tree, X_homehigher, y_true, scoring='accuracy', cv=5)\n",
    "print(\"Accuracy of the HomeTeam Wins assumption Based on 2013 standings: \", end='')\n",
    "print(f\"{round(100*scores_tree_2.mean(),2)}%\")"
   ]
  },
  {
   "cell_type": "code",
   "execution_count": 15,
   "metadata": {},
   "outputs": [],
   "source": [
    "# New feature: Who won the last match between the two teams ?\n",
    "last_winner = defaultdict(int)\n",
    "df[\"HomeTeamWonLast\"] = 0\n",
    "\n",
    "for index, row in df.iterrows():\n",
    "    home_team = row[\"HomeTeam\"]\n",
    "    visitor_team = row[\"VisitorTeam\"]\n",
    "    teams = tuple(sorted([visitor_team, home_team]))\n",
    "    \n",
    "    if last_winner[teams] == row[\"HomeTeam\"]:\n",
    "        row[\"HomeTeamWonLast\"] = 1\n",
    "    else:\n",
    "        row[\"HomeTeamWonLast\"] = 0\n",
    "    df.loc[index] = row\n",
    "    if row[\"HomeWin\"]:\n",
    "        winner = row[\"HomeTeam\"]\n",
    "    else:\n",
    "        winner = row[\"VisitorTeam\"]\n",
    "    last_winner[teams] = winner\n"
   ]
  },
  {
   "cell_type": "code",
   "execution_count": 47,
   "metadata": {},
   "outputs": [
    {
     "name": "stdout",
     "output_type": "stream",
     "text": [
      "Accuracy Based on the winner of the last match between two teams: 61.0%\n"
     ]
    }
   ],
   "source": [
    "# Estimation of the accuracy with the new feature.\n",
    "X_homewonlast = df[[\"HomeRnkHigher\", \"HomeTeamWonLast\"]].values\n",
    "scores_3 = cross_val_score(clf_tree, X_homewonlast, y_true, scoring='accuracy', cv=5)\n",
    "scores_3 = round(scores_3.mean(),2)\n",
    "print(f\"Accuracy Based on the winner of the last match between two teams: {100*scores_3}%\")"
   ]
  },
  {
   "cell_type": "code",
   "execution_count": 50,
   "metadata": {},
   "outputs": [
    {
     "name": "stdout",
     "output_type": "stream",
     "text": [
      "Accuracy: 60.4%\n"
     ]
    },
    {
     "name": "stderr",
     "output_type": "stream",
     "text": [
      "C:\\ProgramData\\Anaconda3\\lib\\site-packages\\sklearn\\preprocessing\\_encoders.py:371: FutureWarning: The handling of integer data will change in version 0.22. Currently, the categories are determined based on the range [0, max(values)], while in the future they will be determined based on the unique values.\n",
      "If you want the future behaviour and silence this warning, you can specify \"categories='auto'\".\n",
      "In case you used a LabelEncoder before this OneHotEncoder to convert the categories to integers, then you can now use the OneHotEncoder directly.\n",
      "  warnings.warn(msg, FutureWarning)\n"
     ]
    }
   ],
   "source": [
    "# Estimation using different class of sklearn, OneHotEncoder\n",
    "from sklearn.preprocessing import LabelEncoder, OneHotEncoder\n",
    "\n",
    "encoding = LabelEncoder()\n",
    "encoding.fit(df[\"HomeTeam\"].values)\n",
    "home_teams = encoding.transform(df[\"HomeTeam\"].values)\n",
    "visitor_teams = encoding.transform(df[\"VisitorTeam\"].values)\n",
    "X_teams = np.vstack([home_teams,visitor_teams]).T\n",
    "\n",
    "onehot = OneHotEncoder()\n",
    "X_teams_expanded = onehot.fit_transform(X_teams).todense()\n",
    "\n",
    "scores_encoder = cross_val_score(clf_tree, X_teams_expanded, y_true, scoring='accuracy', cv=5)\n",
    "scores_encoder = round(scores_encoder.mean(),3)\n",
    "print(f\"Accuracy: {100*scores_encoder}%\")"
   ]
  },
  {
   "cell_type": "code",
   "execution_count": 51,
   "metadata": {},
   "outputs": [
    {
     "name": "stdout",
     "output_type": "stream",
     "text": [
      "Accuracy Using RandomForest Algorithm: 61.0%\n"
     ]
    },
    {
     "name": "stderr",
     "output_type": "stream",
     "text": [
      "C:\\ProgramData\\Anaconda3\\lib\\site-packages\\sklearn\\ensemble\\forest.py:246: FutureWarning: The default value of n_estimators will change from 10 in version 0.20 to 100 in 0.22.\n",
      "  \"10 in version 0.20 to 100 in 0.22.\", FutureWarning)\n",
      "C:\\ProgramData\\Anaconda3\\lib\\site-packages\\sklearn\\ensemble\\forest.py:246: FutureWarning: The default value of n_estimators will change from 10 in version 0.20 to 100 in 0.22.\n",
      "  \"10 in version 0.20 to 100 in 0.22.\", FutureWarning)\n",
      "C:\\ProgramData\\Anaconda3\\lib\\site-packages\\sklearn\\ensemble\\forest.py:246: FutureWarning: The default value of n_estimators will change from 10 in version 0.20 to 100 in 0.22.\n",
      "  \"10 in version 0.20 to 100 in 0.22.\", FutureWarning)\n",
      "C:\\ProgramData\\Anaconda3\\lib\\site-packages\\sklearn\\ensemble\\forest.py:246: FutureWarning: The default value of n_estimators will change from 10 in version 0.20 to 100 in 0.22.\n",
      "  \"10 in version 0.20 to 100 in 0.22.\", FutureWarning)\n",
      "C:\\ProgramData\\Anaconda3\\lib\\site-packages\\sklearn\\ensemble\\forest.py:246: FutureWarning: The default value of n_estimators will change from 10 in version 0.20 to 100 in 0.22.\n",
      "  \"10 in version 0.20 to 100 in 0.22.\", FutureWarning)\n"
     ]
    }
   ],
   "source": [
    "# RandomForests estimation\n",
    "from sklearn.ensemble import RandomForestClassifier\n",
    "clf_forest = RandomForestClassifier(random_state = 14)\n",
    "scores_forest = cross_val_score(clf_forest, X_teams_expanded, y_true, scoring='accuracy', cv=5)\n",
    "print(\"Accuracy Using RandomForest Algorithm: {0:.1f}%\".format(100*scores_forest.mean()))"
   ]
  },
  {
   "cell_type": "code",
   "execution_count": 31,
   "metadata": {},
   "outputs": [
    {
     "name": "stdout",
     "output_type": "stream",
     "text": [
      "Accuracy with new feature added: 61.3%\n"
     ]
    },
    {
     "name": "stderr",
     "output_type": "stream",
     "text": [
      "C:\\ProgramData\\Anaconda3\\lib\\site-packages\\sklearn\\ensemble\\forest.py:246: FutureWarning: The default value of n_estimators will change from 10 in version 0.20 to 100 in 0.22.\n",
      "  \"10 in version 0.20 to 100 in 0.22.\", FutureWarning)\n",
      "C:\\ProgramData\\Anaconda3\\lib\\site-packages\\sklearn\\ensemble\\forest.py:246: FutureWarning: The default value of n_estimators will change from 10 in version 0.20 to 100 in 0.22.\n",
      "  \"10 in version 0.20 to 100 in 0.22.\", FutureWarning)\n",
      "C:\\ProgramData\\Anaconda3\\lib\\site-packages\\sklearn\\ensemble\\forest.py:246: FutureWarning: The default value of n_estimators will change from 10 in version 0.20 to 100 in 0.22.\n",
      "  \"10 in version 0.20 to 100 in 0.22.\", FutureWarning)\n",
      "C:\\ProgramData\\Anaconda3\\lib\\site-packages\\sklearn\\ensemble\\forest.py:246: FutureWarning: The default value of n_estimators will change from 10 in version 0.20 to 100 in 0.22.\n",
      "  \"10 in version 0.20 to 100 in 0.22.\", FutureWarning)\n",
      "C:\\ProgramData\\Anaconda3\\lib\\site-packages\\sklearn\\ensemble\\forest.py:246: FutureWarning: The default value of n_estimators will change from 10 in version 0.20 to 100 in 0.22.\n",
      "  \"10 in version 0.20 to 100 in 0.22.\", FutureWarning)\n"
     ]
    }
   ],
   "source": [
    "X_all = np.hstack([X_homehigher, X_teams_expanded])\n",
    "scores_forest_2 = cross_val_score(clf_forest, X_all, y_true, scoring='accuracy', cv=5)\n",
    "print(\"Accuracy with new feature added: {0:.1f}%\".format(100*scores_forest_2.mean()))"
   ]
  },
  {
   "cell_type": "code",
   "execution_count": 52,
   "metadata": {},
   "outputs": [
    {
     "name": "stderr",
     "output_type": "stream",
     "text": [
      "C:\\ProgramData\\Anaconda3\\lib\\site-packages\\sklearn\\model_selection\\_split.py:2053: FutureWarning: You should specify a value for 'cv' instead of relying on the default value. The default value will change from 3 to 5 in version 0.22.\n",
      "  warnings.warn(CV_WARNING, FutureWarning)\n"
     ]
    },
    {
     "name": "stdout",
     "output_type": "stream",
     "text": [
      "Accuracy: 64.7%\n"
     ]
    }
   ],
   "source": [
    "# Accuracy estimation using GridSearchCV class\n",
    "from sklearn.model_selection import GridSearchCV\n",
    "parameter_space = {\n",
    "    \"max_features\": [2, 10, 'auto'],\n",
    "    \"n_estimators\": [100,],\n",
    "    \"criterion\": [\"gini\", \"entropy\"],\n",
    "    \"min_samples_leaf\": [2, 4, 6]\n",
    "    \n",
    "}\n",
    "grid = GridSearchCV(clf_forest, parameter_space)\n",
    "grid.fit(X_all, y_true)\n",
    "print(\"Accuracy: {0:.1f}%\".format(grid.best_score_ * 100))"
   ]
  }
 ],
 "metadata": {
  "kernelspec": {
   "display_name": "Python 3",
   "language": "python",
   "name": "python3"
  },
  "language_info": {
   "codemirror_mode": {
    "name": "ipython",
    "version": 3
   },
   "file_extension": ".py",
   "mimetype": "text/x-python",
   "name": "python",
   "nbconvert_exporter": "python",
   "pygments_lexer": "ipython3",
   "version": "3.7.3"
  }
 },
 "nbformat": 4,
 "nbformat_minor": 2
}
